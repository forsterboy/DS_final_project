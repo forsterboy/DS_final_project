{
 "cells": [
  {
   "cell_type": "code",
   "execution_count": 1,
   "metadata": {},
   "outputs": [],
   "source": [
    "import numpy as np\n",
    "import pandas as pd\n",
    "import re"
   ]
  },
  {
   "cell_type": "code",
   "execution_count": 2,
   "metadata": {},
   "outputs": [
    {
     "data": {
      "text/html": [
       "<div>\n",
       "<style scoped>\n",
       "    .dataframe tbody tr th:only-of-type {\n",
       "        vertical-align: middle;\n",
       "    }\n",
       "\n",
       "    .dataframe tbody tr th {\n",
       "        vertical-align: top;\n",
       "    }\n",
       "\n",
       "    .dataframe thead th {\n",
       "        text-align: right;\n",
       "    }\n",
       "</style>\n",
       "<table border=\"1\" class=\"dataframe\">\n",
       "  <thead>\n",
       "    <tr style=\"text-align: right;\">\n",
       "      <th></th>\n",
       "      <th>model</th>\n",
       "      <th>year</th>\n",
       "      <th>price</th>\n",
       "      <th>transmission</th>\n",
       "      <th>mileage</th>\n",
       "      <th>fuelType</th>\n",
       "      <th>tax</th>\n",
       "      <th>mpg</th>\n",
       "      <th>engineSize</th>\n",
       "      <th>Manufacturer</th>\n",
       "    </tr>\n",
       "  </thead>\n",
       "  <tbody>\n",
       "    <tr>\n",
       "      <th>0</th>\n",
       "      <td>I10</td>\n",
       "      <td>2017</td>\n",
       "      <td>7495</td>\n",
       "      <td>Manual</td>\n",
       "      <td>11630</td>\n",
       "      <td>Petrol</td>\n",
       "      <td>145</td>\n",
       "      <td>60.1</td>\n",
       "      <td>1.0</td>\n",
       "      <td>hyundi</td>\n",
       "    </tr>\n",
       "    <tr>\n",
       "      <th>1</th>\n",
       "      <td>Polo</td>\n",
       "      <td>2017</td>\n",
       "      <td>10989</td>\n",
       "      <td>Manual</td>\n",
       "      <td>9200</td>\n",
       "      <td>Petrol</td>\n",
       "      <td>145</td>\n",
       "      <td>58.9</td>\n",
       "      <td>1.0</td>\n",
       "      <td>volkswagen</td>\n",
       "    </tr>\n",
       "    <tr>\n",
       "      <th>2</th>\n",
       "      <td>2 Series</td>\n",
       "      <td>2019</td>\n",
       "      <td>27990</td>\n",
       "      <td>Semi-Auto</td>\n",
       "      <td>1614</td>\n",
       "      <td>Diesel</td>\n",
       "      <td>145</td>\n",
       "      <td>49.6</td>\n",
       "      <td>2.0</td>\n",
       "      <td>BMW</td>\n",
       "    </tr>\n",
       "    <tr>\n",
       "      <th>3</th>\n",
       "      <td>Yeti Outdoor</td>\n",
       "      <td>2017</td>\n",
       "      <td>12495</td>\n",
       "      <td>Manual</td>\n",
       "      <td>30960</td>\n",
       "      <td>Diesel</td>\n",
       "      <td>150</td>\n",
       "      <td>62.8</td>\n",
       "      <td>2.0</td>\n",
       "      <td>skoda</td>\n",
       "    </tr>\n",
       "    <tr>\n",
       "      <th>4</th>\n",
       "      <td>Fiesta</td>\n",
       "      <td>2017</td>\n",
       "      <td>7999</td>\n",
       "      <td>Manual</td>\n",
       "      <td>19353</td>\n",
       "      <td>Petrol</td>\n",
       "      <td>125</td>\n",
       "      <td>54.3</td>\n",
       "      <td>1.2</td>\n",
       "      <td>ford</td>\n",
       "    </tr>\n",
       "  </tbody>\n",
       "</table>\n",
       "</div>"
      ],
      "text/plain": [
       "           model  year  price transmission  mileage fuelType  tax   mpg   \n",
       "0            I10  2017   7495       Manual    11630   Petrol  145  60.1  \\\n",
       "1           Polo  2017  10989       Manual     9200   Petrol  145  58.9   \n",
       "2       2 Series  2019  27990    Semi-Auto     1614   Diesel  145  49.6   \n",
       "3   Yeti Outdoor  2017  12495       Manual    30960   Diesel  150  62.8   \n",
       "4         Fiesta  2017   7999       Manual    19353   Petrol  125  54.3   \n",
       "\n",
       "   engineSize Manufacturer  \n",
       "0         1.0       hyundi  \n",
       "1         1.0   volkswagen  \n",
       "2         2.0          BMW  \n",
       "3         2.0        skoda  \n",
       "4         1.2         ford  "
      ]
     },
     "execution_count": 2,
     "metadata": {},
     "output_type": "execute_result"
    }
   ],
   "source": [
    "cars_df = pd.read_csv('data/CarsData.csv')\n",
    "cars_df.head()"
   ]
  },
  {
   "cell_type": "code",
   "execution_count": 14,
   "metadata": {},
   "outputs": [
    {
     "data": {
      "text/plain": [
       "(97712, 10)"
      ]
     },
     "execution_count": 14,
     "metadata": {},
     "output_type": "execute_result"
    }
   ],
   "source": [
    "cars_df.shape"
   ]
  },
  {
   "cell_type": "code",
   "execution_count": 3,
   "metadata": {},
   "outputs": [
    {
     "data": {
      "text/plain": [
       "fuelType\n",
       "Diesel      40419\n",
       "Electric        6\n",
       "Hybrid       3059\n",
       "Other         246\n",
       "Petrol      53982\n",
       "Name: model, dtype: int64"
      ]
     },
     "execution_count": 3,
     "metadata": {},
     "output_type": "execute_result"
    }
   ],
   "source": [
    "cars_df.groupby('fuelType').model.count()"
   ]
  },
  {
   "cell_type": "code",
   "execution_count": 4,
   "metadata": {},
   "outputs": [
    {
     "data": {
      "text/plain": [
       "array(['hyundi', 'volkswagen', 'BMW', 'skoda', 'ford', 'toyota', 'merc',\n",
       "       'vauxhall', 'Audi'], dtype=object)"
      ]
     },
     "execution_count": 4,
     "metadata": {},
     "output_type": "execute_result"
    }
   ],
   "source": [
    "cars_manufacturer_list = cars_df.Manufacturer.unique()\n",
    "cars_manufacturer_list"
   ]
  },
  {
   "cell_type": "code",
   "execution_count": 5,
   "metadata": {},
   "outputs": [
    {
     "data": {
      "text/plain": [
       "model  year   price  transmission  mileage  fuelType  tax    mpg    engineSize  Manufacturer\n",
       "False  False  False  False         False    False     False  False  False       False           97712\n",
       "Name: count, dtype: int64"
      ]
     },
     "execution_count": 5,
     "metadata": {},
     "output_type": "execute_result"
    }
   ],
   "source": [
    "cars_df.isnull().value_counts()"
   ]
  },
  {
   "cell_type": "code",
   "execution_count": 6,
   "metadata": {},
   "outputs": [
    {
     "name": "stdout",
     "output_type": "stream",
     "text": [
      "<class 'pandas.core.frame.DataFrame'>\n",
      "RangeIndex: 97712 entries, 0 to 97711\n",
      "Data columns (total 10 columns):\n",
      " #   Column        Non-Null Count  Dtype  \n",
      "---  ------        --------------  -----  \n",
      " 0   model         97712 non-null  object \n",
      " 1   year          97712 non-null  int64  \n",
      " 2   price         97712 non-null  int64  \n",
      " 3   transmission  97712 non-null  object \n",
      " 4   mileage       97712 non-null  int64  \n",
      " 5   fuelType      97712 non-null  object \n",
      " 6   tax           97712 non-null  int64  \n",
      " 7   mpg           97712 non-null  float64\n",
      " 8   engineSize    97712 non-null  float64\n",
      " 9   Manufacturer  97712 non-null  object \n",
      "dtypes: float64(2), int64(4), object(4)\n",
      "memory usage: 7.5+ MB\n"
     ]
    }
   ],
   "source": [
    "cars_df.info()"
   ]
  },
  {
   "cell_type": "code",
   "execution_count": null,
   "metadata": {},
   "outputs": [],
   "source": [
    "cars_list = cars_df.model.unique()\n",
    "cars_list"
   ]
  },
  {
   "cell_type": "code",
   "execution_count": 12,
   "metadata": {},
   "outputs": [
    {
     "data": {
      "text/plain": [
       "array(['Manual', 'Semi-Auto', 'Automatic', 'Other'], dtype=object)"
      ]
     },
     "execution_count": 12,
     "metadata": {},
     "output_type": "execute_result"
    }
   ],
   "source": [
    "transmission_list = cars_df.transmission.unique()\n",
    "transmission_list"
   ]
  },
  {
   "cell_type": "code",
   "execution_count": 13,
   "metadata": {},
   "outputs": [
    {
     "data": {
      "text/plain": [
       "array([1. , 2. , 1.2, 1.8, 1.5, 2.1, 1.4, 2.5, 1.6, 1.7, 3. , 4.4, 2.2,\n",
       "       1.3, 2.3, 4. , 0. , 1.9, 1.1, 2.4, 3.5, 5.5, 2.9, 2.8, 4.2, 5. ,\n",
       "       5.4, 3.2, 5.2, 4.5, 6. , 2.7, 0.6, 6.2, 4.3, 4.7, 6.6, 3.7, 4.1,\n",
       "       6.3])"
      ]
     },
     "execution_count": 13,
     "metadata": {},
     "output_type": "execute_result"
    }
   ],
   "source": [
    "engine_list = cars_df.engineSize.unique()\n",
    "engine_list"
   ]
  },
  {
   "cell_type": "code",
   "execution_count": 10,
   "metadata": {},
   "outputs": [
    {
     "data": {
      "text/plain": [
       "model           0\n",
       "year            0\n",
       "price           0\n",
       "transmission    0\n",
       "mileage         0\n",
       "fuelType        0\n",
       "tax             0\n",
       "mpg             0\n",
       "engineSize      0\n",
       "Manufacturer    0\n",
       "dtype: int64"
      ]
     },
     "execution_count": 10,
     "metadata": {},
     "output_type": "execute_result"
    }
   ],
   "source": [
    "nl = cars_df.isnull().sum()\n",
    "nl"
   ]
  },
  {
   "cell_type": "code",
   "execution_count": 11,
   "metadata": {},
   "outputs": [
    {
     "data": {
      "text/plain": [
       "Series([], dtype: int64)"
      ]
     },
     "execution_count": 11,
     "metadata": {},
     "output_type": "execute_result"
    }
   ],
   "source": [
    "nl[nl > 0]"
   ]
  },
  {
   "cell_type": "code",
   "execution_count": null,
   "metadata": {},
   "outputs": [],
   "source": []
  }
 ],
 "metadata": {
  "kernelspec": {
   "display_name": ".venv",
   "language": "python",
   "name": "python3"
  },
  "language_info": {
   "codemirror_mode": {
    "name": "ipython",
    "version": 3
   },
   "file_extension": ".py",
   "mimetype": "text/x-python",
   "name": "python",
   "nbconvert_exporter": "python",
   "pygments_lexer": "ipython3",
   "version": "3.11.3"
  }
 },
 "nbformat": 4,
 "nbformat_minor": 2
}
