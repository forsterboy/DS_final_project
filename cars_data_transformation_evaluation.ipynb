{
 "cells": [
  {
   "cell_type": "markdown",
   "metadata": {},
   "source": [
    "Preparing the dataset"
   ]
  },
  {
   "cell_type": "code",
   "execution_count": 3,
   "metadata": {},
   "outputs": [],
   "source": [
    "import pandas as pd\n",
    "import matplotlib.pyplot as plt\n",
    "import seaborn as sns\n",
    "import numpy as np\n",
    "%matplotlib inline\n",
    "\n",
    "cars_df = pd.read_csv('data/cars_after_eda.csv')"
   ]
  },
  {
   "cell_type": "code",
   "execution_count": 4,
   "metadata": {},
   "outputs": [
    {
     "data": {
      "text/html": [
       "<div>\n",
       "<style scoped>\n",
       "    .dataframe tbody tr th:only-of-type {\n",
       "        vertical-align: middle;\n",
       "    }\n",
       "\n",
       "    .dataframe tbody tr th {\n",
       "        vertical-align: top;\n",
       "    }\n",
       "\n",
       "    .dataframe thead th {\n",
       "        text-align: right;\n",
       "    }\n",
       "</style>\n",
       "<table border=\"1\" class=\"dataframe\">\n",
       "  <thead>\n",
       "    <tr style=\"text-align: right;\">\n",
       "      <th></th>\n",
       "      <th>name</th>\n",
       "      <th>year</th>\n",
       "      <th>selling_price</th>\n",
       "      <th>km_driven</th>\n",
       "      <th>fuel</th>\n",
       "      <th>seller_type</th>\n",
       "      <th>transmission</th>\n",
       "      <th>owner</th>\n",
       "      <th>mileage_kmpl</th>\n",
       "      <th>engine_cc</th>\n",
       "      <th>max_power_bhp</th>\n",
       "      <th>seats</th>\n",
       "      <th>brand</th>\n",
       "      <th>model</th>\n",
       "      <th>model_variants</th>\n",
       "      <th>km_driven_bin</th>\n",
       "      <th>engine_bin</th>\n",
       "      <th>mileage_bin</th>\n",
       "      <th>max_power_bin</th>\n",
       "    </tr>\n",
       "  </thead>\n",
       "  <tbody>\n",
       "    <tr>\n",
       "      <th>0</th>\n",
       "      <td>Maruti Swift Dzire VDI</td>\n",
       "      <td>2014</td>\n",
       "      <td>450000</td>\n",
       "      <td>145500</td>\n",
       "      <td>Diesel</td>\n",
       "      <td>Individual</td>\n",
       "      <td>Manual</td>\n",
       "      <td>First Owner</td>\n",
       "      <td>23.40</td>\n",
       "      <td>1248</td>\n",
       "      <td>74.00</td>\n",
       "      <td>5.0</td>\n",
       "      <td>Maruti</td>\n",
       "      <td>Swift</td>\n",
       "      <td>Dzire VDI</td>\n",
       "      <td>140000 km - 150000 km</td>\n",
       "      <td>1200 cc - 1300 cc</td>\n",
       "      <td>20 kmpl - 25 kmpl</td>\n",
       "      <td>60 bhp - 80 bhp</td>\n",
       "    </tr>\n",
       "    <tr>\n",
       "      <th>1</th>\n",
       "      <td>Skoda Rapid 1.5 TDI Ambition</td>\n",
       "      <td>2014</td>\n",
       "      <td>370000</td>\n",
       "      <td>120000</td>\n",
       "      <td>Diesel</td>\n",
       "      <td>Individual</td>\n",
       "      <td>Manual</td>\n",
       "      <td>Second Owner</td>\n",
       "      <td>21.14</td>\n",
       "      <td>1498</td>\n",
       "      <td>103.52</td>\n",
       "      <td>5.0</td>\n",
       "      <td>Skoda</td>\n",
       "      <td>Rapid</td>\n",
       "      <td>1.5 TDI Ambition</td>\n",
       "      <td>110000 km - 120000 km</td>\n",
       "      <td>1400 cc - 1500 cc</td>\n",
       "      <td>20 kmpl - 25 kmpl</td>\n",
       "      <td>100 bhp - 120 bhp</td>\n",
       "    </tr>\n",
       "    <tr>\n",
       "      <th>2</th>\n",
       "      <td>Honda City 2017-2020 EXi</td>\n",
       "      <td>2006</td>\n",
       "      <td>158000</td>\n",
       "      <td>140000</td>\n",
       "      <td>Petrol</td>\n",
       "      <td>Individual</td>\n",
       "      <td>Manual</td>\n",
       "      <td>Third Owner</td>\n",
       "      <td>17.70</td>\n",
       "      <td>1497</td>\n",
       "      <td>78.00</td>\n",
       "      <td>5.0</td>\n",
       "      <td>Honda</td>\n",
       "      <td>City</td>\n",
       "      <td>2017-2020 EXi</td>\n",
       "      <td>130000 km - 140000 km</td>\n",
       "      <td>1400 cc - 1500 cc</td>\n",
       "      <td>15 kmpl - 20 kmpl</td>\n",
       "      <td>60 bhp - 80 bhp</td>\n",
       "    </tr>\n",
       "    <tr>\n",
       "      <th>3</th>\n",
       "      <td>Hyundai i20 Sportz Diesel</td>\n",
       "      <td>2010</td>\n",
       "      <td>225000</td>\n",
       "      <td>127000</td>\n",
       "      <td>Diesel</td>\n",
       "      <td>Individual</td>\n",
       "      <td>Manual</td>\n",
       "      <td>First Owner</td>\n",
       "      <td>23.00</td>\n",
       "      <td>1396</td>\n",
       "      <td>90.00</td>\n",
       "      <td>5.0</td>\n",
       "      <td>Hyundai</td>\n",
       "      <td>i20</td>\n",
       "      <td>Sportz Diesel</td>\n",
       "      <td>120000 km - 130000 km</td>\n",
       "      <td>1300 cc - 1400 cc</td>\n",
       "      <td>20 kmpl - 25 kmpl</td>\n",
       "      <td>80 bhp - 100 bhp</td>\n",
       "    </tr>\n",
       "    <tr>\n",
       "      <th>4</th>\n",
       "      <td>Maruti Swift VXI BSIII</td>\n",
       "      <td>2007</td>\n",
       "      <td>130000</td>\n",
       "      <td>120000</td>\n",
       "      <td>Petrol</td>\n",
       "      <td>Individual</td>\n",
       "      <td>Manual</td>\n",
       "      <td>First Owner</td>\n",
       "      <td>16.10</td>\n",
       "      <td>1298</td>\n",
       "      <td>88.20</td>\n",
       "      <td>5.0</td>\n",
       "      <td>Maruti</td>\n",
       "      <td>Swift</td>\n",
       "      <td>VXI BSIII</td>\n",
       "      <td>110000 km - 120000 km</td>\n",
       "      <td>1200 cc - 1300 cc</td>\n",
       "      <td>15 kmpl - 20 kmpl</td>\n",
       "      <td>80 bhp - 100 bhp</td>\n",
       "    </tr>\n",
       "  </tbody>\n",
       "</table>\n",
       "</div>"
      ],
      "text/plain": [
       "                           name  year  selling_price  km_driven    fuel   \n",
       "0        Maruti Swift Dzire VDI  2014         450000     145500  Diesel  \\\n",
       "1  Skoda Rapid 1.5 TDI Ambition  2014         370000     120000  Diesel   \n",
       "2      Honda City 2017-2020 EXi  2006         158000     140000  Petrol   \n",
       "3     Hyundai i20 Sportz Diesel  2010         225000     127000  Diesel   \n",
       "4        Maruti Swift VXI BSIII  2007         130000     120000  Petrol   \n",
       "\n",
       "  seller_type transmission         owner  mileage_kmpl  engine_cc   \n",
       "0  Individual       Manual   First Owner         23.40       1248  \\\n",
       "1  Individual       Manual  Second Owner         21.14       1498   \n",
       "2  Individual       Manual   Third Owner         17.70       1497   \n",
       "3  Individual       Manual   First Owner         23.00       1396   \n",
       "4  Individual       Manual   First Owner         16.10       1298   \n",
       "\n",
       "   max_power_bhp  seats    brand  model    model_variants   \n",
       "0          74.00    5.0   Maruti  Swift         Dzire VDI  \\\n",
       "1         103.52    5.0    Skoda  Rapid  1.5 TDI Ambition   \n",
       "2          78.00    5.0    Honda   City     2017-2020 EXi   \n",
       "3          90.00    5.0  Hyundai    i20     Sportz Diesel   \n",
       "4          88.20    5.0   Maruti  Swift         VXI BSIII   \n",
       "\n",
       "           km_driven_bin         engine_bin        mileage_bin   \n",
       "0  140000 km - 150000 km  1200 cc - 1300 cc  20 kmpl - 25 kmpl  \\\n",
       "1  110000 km - 120000 km  1400 cc - 1500 cc  20 kmpl - 25 kmpl   \n",
       "2  130000 km - 140000 km  1400 cc - 1500 cc  15 kmpl - 20 kmpl   \n",
       "3  120000 km - 130000 km  1300 cc - 1400 cc  20 kmpl - 25 kmpl   \n",
       "4  110000 km - 120000 km  1200 cc - 1300 cc  15 kmpl - 20 kmpl   \n",
       "\n",
       "       max_power_bin  \n",
       "0    60 bhp - 80 bhp  \n",
       "1  100 bhp - 120 bhp  \n",
       "2    60 bhp - 80 bhp  \n",
       "3   80 bhp - 100 bhp  \n",
       "4   80 bhp - 100 bhp  "
      ]
     },
     "execution_count": 4,
     "metadata": {},
     "output_type": "execute_result"
    }
   ],
   "source": [
    "cars_df.head()"
   ]
  },
  {
   "cell_type": "code",
   "execution_count": 5,
   "metadata": {},
   "outputs": [
    {
     "name": "stdout",
     "output_type": "stream",
     "text": [
      "<class 'pandas.core.frame.DataFrame'>\n",
      "RangeIndex: 7906 entries, 0 to 7905\n",
      "Data columns (total 19 columns):\n",
      " #   Column          Non-Null Count  Dtype  \n",
      "---  ------          --------------  -----  \n",
      " 0   name            7906 non-null   object \n",
      " 1   year            7906 non-null   int64  \n",
      " 2   selling_price   7906 non-null   int64  \n",
      " 3   km_driven       7906 non-null   int64  \n",
      " 4   fuel            7906 non-null   object \n",
      " 5   seller_type     7906 non-null   object \n",
      " 6   transmission    7906 non-null   object \n",
      " 7   owner           7906 non-null   object \n",
      " 8   mileage_kmpl    7906 non-null   float64\n",
      " 9   engine_cc       7906 non-null   int64  \n",
      " 10  max_power_bhp   7906 non-null   float64\n",
      " 11  seats           7906 non-null   float64\n",
      " 12  brand           7906 non-null   object \n",
      " 13  model           7906 non-null   object \n",
      " 14  model_variants  7906 non-null   object \n",
      " 15  km_driven_bin   7905 non-null   object \n",
      " 16  engine_bin      7794 non-null   object \n",
      " 17  mileage_bin     7888 non-null   object \n",
      " 18  max_power_bin   7905 non-null   object \n",
      "dtypes: float64(3), int64(4), object(12)\n",
      "memory usage: 1.1+ MB\n"
     ]
    }
   ],
   "source": [
    "cars_df.info()"
   ]
  },
  {
   "cell_type": "markdown",
   "metadata": {},
   "source": [
    "### Checking the distribution of categorical data"
   ]
  },
  {
   "cell_type": "code",
   "execution_count": 6,
   "metadata": {},
   "outputs": [
    {
     "name": "stdout",
     "output_type": "stream",
     "text": [
      "\n",
      "Distribution of categorical data:\n",
      "fuel\n",
      "Diesel    4299\n",
      "Petrol    3520\n",
      "CNG         52\n",
      "LPG         35\n",
      "Name: count, dtype: int64\n",
      "transmission\n",
      "Manual       6865\n",
      "Automatic    1041\n",
      "Name: count, dtype: int64\n",
      "seller_type\n",
      "Individual          6563\n",
      "Dealer              1107\n",
      "Trustmark Dealer     236\n",
      "Name: count, dtype: int64\n",
      "owner\n",
      "First Owner             5215\n",
      "Second Owner            2016\n",
      "Third Owner              510\n",
      "Fourth & Above Owner     160\n",
      "Test Drive Car             5\n",
      "Name: count, dtype: int64\n",
      "brand\n",
      "Maruti           2367\n",
      "Hyundai          1360\n",
      "Mahindra          758\n",
      "Tata              719\n",
      "Honda             466\n",
      "Toyota            452\n",
      "Ford              388\n",
      "Chevrolet         230\n",
      "Renault           228\n",
      "Volkswagen        185\n",
      "BMW               118\n",
      "Skoda             104\n",
      "Nissan             81\n",
      "Jaguar             71\n",
      "Volvo              67\n",
      "Datsun             65\n",
      "Mercedes-Benz      54\n",
      "Fiat               41\n",
      "Audi               40\n",
      "Lexus              34\n",
      "Jeep               31\n",
      "Mitsubishi         14\n",
      "Force               6\n",
      "Land                6\n",
      "Isuzu               5\n",
      "Kia                 4\n",
      "Ambassador          4\n",
      "Daewoo              3\n",
      "MG                  3\n",
      "Ashok               1\n",
      "Opel                1\n",
      "Name: count, dtype: int64\n",
      "model\n",
      "Swift      729\n",
      "Alto       418\n",
      "i20        341\n",
      "Wagon      282\n",
      "Innova     235\n",
      "          ... \n",
      "Yeti         1\n",
      "Astra        1\n",
      "Leyland      1\n",
      "X7           1\n",
      "Teana        1\n",
      "Name: count, Length: 197, dtype: int64\n"
     ]
    }
   ],
   "source": [
    "\n",
    "print(\"\\nDistribution of categorical data:\")\n",
    "\n",
    "print(cars_df['fuel'].value_counts())\n",
    "print(cars_df['transmission'].value_counts())\n",
    "print(cars_df['seller_type'].value_counts())\n",
    "print(cars_df['owner'].value_counts())\n",
    "print(cars_df['brand'].value_counts())\n",
    "print(cars_df['model'].value_counts())"
   ]
  },
  {
   "cell_type": "markdown",
   "metadata": {},
   "source": [
    "### Encoding Categorical Data:\n",
    "\n",
    "Encoding categorical variables such as 'model', ‘fuelType’, ‘Manufacturer’, and ‘transmission’ into numerical representations, preparing the dataset for machine learning algorithms."
   ]
  },
  {
   "cell_type": "code",
   "execution_count": 7,
   "metadata": {},
   "outputs": [],
   "source": [
    "from sklearn.preprocessing import LabelEncoder\n",
    "columns = ['brand', 'model', 'model_variants', 'seller_type', 'transmission', 'fuel', 'owner', 'km_driven_bin', 'engine_bin', 'mileage_bin', 'max_power_bin']\n",
    "\n",
    "lEnc = LabelEncoder()\n",
    "\n",
    "#encoded_labels = lEnc.fit_transform(cars_df['brand'])\n",
    "#mapping_dict = dict(zip(lEnc.classes_, range(len(lEnc.classes_))))\n",
    "#print(mapping_dict)\n"
   ]
  },
  {
   "cell_type": "code",
   "execution_count": 8,
   "metadata": {},
   "outputs": [
    {
     "name": "stdout",
     "output_type": "stream",
     "text": [
      "{'Ambassador': 0, 'Ashok': 1, 'Audi': 2, 'BMW': 3, 'Chevrolet': 4, 'Daewoo': 5, 'Datsun': 6, 'Fiat': 7, 'Force': 8, 'Ford': 9, 'Honda': 10, 'Hyundai': 11, 'Isuzu': 12, 'Jaguar': 13, 'Jeep': 14, 'Kia': 15, 'Land': 16, 'Lexus': 17, 'MG': 18, 'Mahindra': 19, 'Maruti': 20, 'Mercedes-Benz': 21, 'Mitsubishi': 22, 'Nissan': 23, 'Opel': 24, 'Renault': 25, 'Skoda': 26, 'Tata': 27, 'Toyota': 28, 'Volkswagen': 29, 'Volvo': 30}\n",
      "{'3': 0, '5': 1, '6': 2, '7': 3, '800': 4, 'A-Star': 5, 'A3': 6, 'A4': 7, 'A6': 8, 'Accent': 9, 'Accord': 10, 'Alto': 11, 'Amaze': 12, 'Ameo': 13, 'Aria': 14, 'Aspire': 15, 'Astra': 16, 'Aveo': 17, 'Avventura': 18, 'B': 19, 'BR-V': 20, 'BRV': 21, 'Baleno': 22, 'Beat': 23, 'Bolero': 24, 'Bolt': 25, 'Brio': 26, 'CLA': 27, 'CLASSIC': 28, 'CR-V': 29, 'Camry': 30, 'Captiva': 31, 'Captur': 32, 'Celerio': 33, 'Ciaz': 34, 'City': 35, 'Civic': 36, 'Classic': 37, 'Compass': 38, 'Corolla': 39, 'Creta': 40, 'CrossPolo': 41, 'Cruze': 42, 'D-Max': 43, 'Duster': 44, 'Dzire': 45, 'E-Class': 46, 'EON': 47, 'ES': 48, 'EcoSport': 49, 'Ecosport': 50, 'Eeco': 51, 'Elantra': 52, 'Elite': 53, 'Endeavour': 54, 'Enjoy': 55, 'Ertiga': 56, 'Esteem': 57, 'Etios': 58, 'Fabia': 59, 'Fiesta': 60, 'Figo': 61, 'Fluence': 62, 'Fortuner': 63, 'Freestyle': 64, 'Fusion': 65, 'GL-Class': 66, 'GLA': 67, 'GLC': 68, 'GO': 69, 'GTI': 70, 'Getz': 71, 'Glanza': 72, 'Grand': 73, 'Grande': 74, 'Gurkha': 75, 'Gypsy': 76, 'Harrier': 77, 'Hector': 78, 'Hexa': 79, 'Ignis': 80, 'Ikon': 81, 'Indica': 82, 'Indigo': 83, 'Innova': 84, 'Jazz': 85, 'Jetta': 86, 'KUV': 87, 'KWID': 88, 'Kicks': 89, 'Kodiaq': 90, 'Koleos': 91, 'Lancer': 92, 'Land': 93, 'Laura': 94, 'Leyland': 95, 'Linea': 96, 'Lodgy': 97, 'Logan': 98, 'M-Class': 99, 'MU': 100, 'MUX': 101, 'Manza': 102, 'Marazzo': 103, 'Matiz': 104, 'Micra': 105, 'Mobilio': 106, 'Nano': 107, 'New': 108, 'Nexon': 109, 'NuvoSport': 110, 'Octavia': 111, 'Omni': 112, 'One': 113, 'Optra': 114, 'Pajero': 115, 'Passat': 116, 'Platinum': 117, 'Polo': 118, 'Pulse': 119, 'Punto': 120, 'Q3': 121, 'Q5': 122, 'Q7': 123, 'Qualis': 124, 'Quanto': 125, 'Rapid': 126, 'RediGO': 127, 'Renault': 128, 'Ritz': 129, 'Rover': 130, 'S-Class': 131, 'S-Cross': 132, 'S-Presso': 133, 'S60': 134, 'S90': 135, 'SX4': 136, 'Safari': 137, 'Sail': 138, 'Santa': 139, 'Santro': 140, 'Scala': 141, 'Scorpio': 142, 'Seltos': 143, 'Sonata': 144, 'Spacio': 145, 'Spark': 146, 'Ssangyong': 147, 'Sumo': 148, 'Sunny': 149, 'Superb': 150, 'Supro': 151, 'Swift': 152, 'TUV': 153, 'Tavera': 154, 'Teana': 155, 'Terrano': 156, 'Thar': 157, 'Tiago': 158, 'Tigor': 159, 'Trailblazer': 160, 'Triber': 161, 'Tucson': 162, 'V40': 163, 'Vento': 164, 'Venture': 165, 'Venue': 166, 'Verito': 167, 'Verna': 168, 'Vitara': 169, 'WR-V': 170, 'Wagon': 171, 'Winger': 172, 'Wrangler': 173, 'X1': 174, 'X3': 175, 'X4': 176, 'X5': 177, 'X6': 178, 'X7': 179, 'XC40': 180, 'XC60': 181, 'XC90': 182, 'XE': 183, 'XF': 184, 'XL6': 185, 'XUV300': 186, 'XUV500': 187, 'Xcent': 188, 'Xenon': 189, 'Xylo': 190, 'Yaris': 191, 'Yeti': 192, 'Zen': 193, 'Zest': 194, 'i10': 195, 'i20': 196}\n",
      "{'1.0': 0, '1.0 E': 1, '1.0 Ecoboost Titanium Optional': 2, '1.0 Era Plus': 3, '1.0 Kappa Magna Plus': 4, '1.0 Kappa Magna Plus Optional': 5, '1.0 LS': 6, '1.0 LT': 7, '1.0 LT LPG': 8, '1.0 LT Option Pack w/ Airbag': 9, '1.0 MPI Comfortline': 10, '1.0 MPI Trendline': 11, '1.0 MPI Trendline BSIV': 12, '1.0 Magna Plus Option O': 13, '1.0 PS': 14, '1.0 PS LPG': 15, '1.0 RXL': 16, '1.0 RXT 02 Anniversary Edition': 17, '1.0 RXT AMT Opt': 18, '1.0 RXT BSIV': 19, '1.0 RXT Optional': 20, '1.0 S': 21, '1.0 T Option': 22, '1.0 TSI Highline Plus': 23, '1.05 Revotorq XE': 24, '1.05 Revotorq XM': 25, '1.05 Revotorq XT': 26, '1.05 Revotorq XT Option': 27, '1.05 Revotorq XZ': 28, '1.05 Revotorq XZ Option': 29, '1.05 Revotorq XZ WO Alloy': 30, '1.1 CRDi Base': 31, '1.1 CRDi S': 32, '1.1 CRDi S Option': 33, '1.1 CRDi SX': 34, '1.1 CRDi SX Option': 35, '1.1 GLE': 36, '1.1 GVS': 37, '1.2 AMT Alpha BSIV': 38, '1.2 AMT Delta BSIV': 39, '1.2 AMT Zeta BSIV': 40, '1.2 Active': 41, '1.2 Alpha BSIV': 42, '1.2 Asta': 43, '1.2 Asta Dual Tone': 44, '1.2 Asta Option': 45, '1.2 CRDi E': 46, '1.2 CRDi E Plus': 47, '1.2 CRDi S': 48, '1.2 CRDi SX': 49, '1.2 CRDi SX Option': 50, '1.2 DLX (Only Delhi)': 51, '1.2 Delta BSIV': 52, '1.2 E MT': 53, '1.2 Kappa AT S Option': 54, '1.2 Kappa AT SX Option': 55, '1.2 Kappa Base': 56, '1.2 Kappa S': 57, '1.2 Kappa S Option': 58, '1.2 Kappa SX': 59, '1.2 Kappa SX Option': 60, '1.2 Kappa SX Option AT': 61, '1.2 LS': 62, '1.2 LS ABS': 63, '1.2 LT ABS': 64, '1.2 MPI Ambition': 65, '1.2 MPI Ambition Plus': 66, '1.2 MPI Comfortline': 67, '1.2 MPI Comfortline Plus': 68, '1.2 MPI Highline': 69, '1.2 MPI Highline Plus 16': 70, '1.2 Magna': 71, '1.2 Magna Executive': 72, '1.2 Revotron XE': 73, '1.2 Revotron XM': 74, '1.2 Revotron XM Option': 75, '1.2 Revotron XT': 76, '1.2 Revotron XTA': 77, '1.2 Revotron XZ': 78, '1.2 Revotron XZ Option': 79, '1.2 Revotron XZ Plus': 80, '1.2 Revotron XZ Plus Dual Tone': 81, '1.2 Revotron XZ WO Alloy': 82, '1.2 Revotron XZA': 83, '1.2 Revotron XZA Plus': 84, '1.2 S AT i VTEC': 85, '1.2 S MT': 86, '1.2 S i VTEC': 87, '1.2 SV i VTEC': 88, '1.2 Sportz': 89, '1.2 Spotz': 90, '1.2 TDI Active Plus': 91, '1.2 TDI Ambition Plus': 92, '1.2 V AT i VTEC': 93, '1.2 V AT i VTEC Privilege': 94, '1.2 V i VTEC': 95, '1.2 VTVT E': 96, '1.2 VTVT E Plus': 97, '1.2 VTVT S': 98, '1.2 VTVT S AT': 99, '1.2 VTVT SX': 100, '1.2 VTVT SX Option': 101, '1.2 VX MT': 102, '1.2 VX i VTEC': 103, '1.2 Zeta BSIV': 104, '1.2L Diesel Ambiente': 105, '1.2L Diesel Elegance': 106, '1.2P Ambiente MT': 107, '1.2P Sports Edition MT': 108, '1.2P Titanium MT': 109, '1.2P Titanium Opt MT': 110, '1.2P Titanium Plus MT': 111, '1.2P Trend MT': 112, '1.3 AMT Zeta': 113, '1.3 Active': 114, '1.3 Alpha': 115, '1.3 CLXi': 116, '1.3 EXI': 117, '1.3 Flair': 118, '1.3 GVS': 119, '1.3 LS': 120, '1.3 Multijet Active': 121, '1.3 Multijet Emotion': 122, '1.3 Sigma': 123, '1.3 TCDi LS 7': 124, '1.3 TCDi LS 8': 125, '1.3 TCDi LT 8': 126, '1.3 TCDi LTZ 7': 127, '1.3 TCDi LTZ 8': 128, '1.3 Zeta': 129, '1.4 Alpha': 130, '1.4 Asta': 131, '1.4 Asta (AT)': 132, '1.4 Asta Dual Tone': 133, '1.4 Asta Option': 134, '1.4 CRDi': 135, '1.4 CRDi Asta': 136, '1.4 CRDi Base': 137, '1.4 CRDi Era': 138, '1.4 CRDi Magna': 139, '1.4 CRDi S': 140, '1.4 CRDi S Plus': 141, '1.4 CRDi Sportz': 142, '1.4 CX': 143, '1.4 Durasport EXI': 144, '1.4 Duratec EXI': 145, '1.4 Duratec EXI Limited Edition': 146, '1.4 Duratec ZXI': 147, '1.4 Duratorq CLXI': 148, '1.4 Duratorq EXI': 149, '1.4 Duratorq Titanium': 150, '1.4 Duratorq ZXI': 151, '1.4 E Plus': 152, '1.4 EX Diesel': 153, '1.4 G4 BSIV': 154, '1.4 LS': 155, '1.4 LTZ 7': 156, '1.4 Limited': 157, '1.4 Limited Plus BSIV': 158, '1.4 Magna AT': 159, '1.4 SXi TDCi ABS': 160, '1.4 Sigma': 161, '1.4 Sport': 162, '1.4 Sportz': 163, '1.4 TDCi Diesel': 164, '1.4 TDCi DuraTorq': 165, '1.4 TDCi EXI': 166, '1.4 TDI Ambiente': 167, '1.4 VTVT': 168, '1.4 VXD': 169, '1.4 ZXi Duratec': 170, '1.4 ZXi TDCi ABS': 171, '1.4 ZXi TDCi LE': 172, '1.4 ZXi TDCi Limited Edition': 173, '1.5': 174, '1.5 CRDi GVS': 175, '1.5 D2 BSIII': 176, '1.5 D2 BSIV': 177, '1.5 D4 BSIII': 178, '1.5 D4 BSIV': 179, '1.5 D6 BSIII': 180, '1.5 D6 BSIV': 181, '1.5 DV5 MT Titanium': 182, '1.5 DV5 MT Titanium Optional': 183, '1.5 DV5 MT Trend': 184, '1.5 Diesel Ambiente BSIV': 185, '1.5 Diesel RXT': 186, '1.5 Diesel Titanium': 187, '1.5 Diesel Titanium BSIV': 188, '1.5 Diesel Titanium Plus BSIV': 189, '1.5 Diesel Trend': 190, '1.5 Diesel Trend BSIV': 191, '1.5 Diesel Trend Plus BSIV': 192, '1.5 E MT': 193, '1.5 E i DTEC': 194, '1.5 EXI': 195, '1.5 GXI': 196, '1.5 Highline Plus AT 16 Alloy': 197, '1.5 Petrol Ambiente': 198, '1.5 Petrol Ambiente BSIV': 199, '1.5 Petrol Titanium': 200, '1.5 Petrol Titanium BSIV': 201, '1.5 Petrol Titanium Plus BSIV': 202, '1.5 Petrol Trend BSIV': 203, '1.5 Revotorq XE': 204, '1.5 Revotorq XM': 205, '1.5 Revotorq XT': 206, '1.5 Revotorq XZ Plus': 207, '1.5 Revotorq XZ Plus Dual Tone': 208, '1.5 Revotorq XZA Plus': 209, '1.5 Revotorq XZA Plus DualTone': 210, '1.5 S Inspire': 211, '1.5 S MT': 212, '1.5 S i DTEC': 213, '1.5 Sports Edition MT': 214, '1.5 TDCi Ambiente': 215, '1.5 TDCi Ambiente BSIV': 216, '1.5 TDCi Platinum Edition BSIV': 217, '1.5 TDCi Signature BSIV': 218, '1.5 TDCi Titanium': 219, '1.5 TDCi Titanium BE BSIV': 220, '1.5 TDCi Titanium BSIV': 221, '1.5 TDCi Titanium Plus BE BSIV': 222, '1.5 TDCi Titanium Plus BSIV': 223, '1.5 TDCi Trend': 224, '1.5 TDCi Trend Plus BSIV': 225, '1.5 TDI': 226, '1.5 TDI AT Ambition': 227, '1.5 TDI AT Ambition Plus': 228, '1.5 TDI AT Style BSIV': 229, '1.5 TDI AT Style Plus': 230, '1.5 TDI Active': 231, '1.5 TDI Ambition': 232, '1.5 TDI Ambition BSIV': 233, '1.5 TDI Ambition Plus': 234, '1.5 TDI Comfortline': 235, '1.5 TDI Comfortline AT': 236, '1.5 TDI Elegance': 237, '1.5 TDI Elegance Black Package': 238, '1.5 TDI Highline': 239, '1.5 TDI Highline 16 Alloy': 240, '1.5 TDI Highline AT': 241, '1.5 TDI Highline BSIV': 242, '1.5 TDI Highline Plus': 243, '1.5 TDI Highline Plus 16 AT': 244, '1.5 TDI Highline Plus AT': 245, '1.5 TDI Highline Plus AT BSIV': 246, '1.5 TDI Style Plus Black Package': 247, '1.5 TDI Trendline': 248, '1.5 Ti VCT AT Titanium': 249, '1.5 Ti VCT AT Titanium BE BSIV': 250, '1.5 Ti VCT AT Titanium BSIV': 251, '1.5 Ti VCT MT Titanium': 252, '1.5 Ti VCT MT Titanium BSIV': 253, '1.5 Ti VCT MT Trend BSIV': 254, '1.5 V': 255, '1.5 V AT': 256, '1.5 V Elegance': 257, '1.5 V Inspire': 258, '1.5 V MT': 259, '1.5 V MT Exclusive': 260, '1.5 V MT Sunroof': 261, '1.5 V i DTEC': 262, '1.5 VDI': 263, '1.5 VX i DTEC': 264, '1.5 ZDI': 265, '1.5D Ambiente MT': 266, '1.5D Base MT': 267, '1.5D Titanium MT': 268, '1.5D Titanium Opt MT': 269, '1.5D Trend MT': 270, '1.5P Titanium AT': 271, '1.6': 272, '1.6 CRDI': 273, '1.6 CRDI AT SX Option': 274, '1.6 CRDi AT S Plus': 275, '1.6 CRDi AT SX Plus': 276, '1.6 CRDi Anniversary Edition': 277, '1.6 CRDi EX AT': 278, '1.6 CRDi EX MT': 279, '1.6 CRDi S': 280, '1.6 CRDi S Option': 281, '1.6 CRDi SX': 282, '1.6 CRDi SX Option': 283, '1.6 CRDi SX Plus': 284, '1.6 CRDi SX Plus Dual Tone': 285, '1.6 Duratec CLXI': 286, '1.6 Duratec EXI': 287, '1.6 Duratec LXI': 288, '1.6 Duratec Titanium': 289, '1.6 EXi NXt': 290, '1.6 G6 Executive BSIII': 291, '1.6 Gamma SX Plus': 292, '1.6 Highline': 293, '1.6 LT Royale': 294, '1.6 MPI AT Ambition BSIV': 295, '1.6 MPI AT Elegance': 296, '1.6 MPI AT Style Plus': 297, '1.6 MPI Active BSIV': 298, '1.6 MPI Ambition': 299, '1.6 MPI Ambition BSIV': 300, '1.6 MPI Ambition Plus': 301, '1.6 MPI Elegance': 302, '1.6 Nxt': 303, '1.6 Really Sport': 304, '1.6 SX': 305, '1.6 SX Automatic': 306, '1.6 SX Automatic Diesel': 307, '1.6 SX CRDI (O) AT': 308, '1.6 SX CRDi (O)': 309, '1.6 SX Diesel': 310, '1.6 SX Option': 311, '1.6 SX Option Executive': 312, '1.6 SX VTVT (O)': 313, '1.6 SX VTVT AT': 314, '1.6 TDI Ambition': 315, '1.6 TDI Ambition Plus': 316, '1.6 TDI Ambition Plus Alloy': 317, '1.6 TDI Elegance': 318, '1.6 Trendline': 319, '1.6 VGT CRDi': 320, '1.6 VTVT': 321, '1.6 VTVT AT SX': 322, '1.6 VTVT E Plus': 323, '1.6 VTVT S': 324, '1.6 VTVT S Option': 325, '1.6 VTVT SX': 326, '1.6 Xi ABS': 327, '1.6 ZXi ABS': 328, '1.8 (E) MT': 329, '1.8 S AT': 330, '1.8 S MT': 331, '1.8 TFSI': 332, '1.8 TSI': 333, '1.8 TSI MT': 334, '1.8 V AT': 335, '1.8 V MT': 336, '1.8 V MT Inspire': 337, '1.99 S10': 338, '1.99 S10 4WD': 339, '1.99 S4': 340, '1.99 S4 Plus': 341, '1.99 S6 Plus': 342, '1.99 S8': 343, '100 D75 K4 Plus': 344, '100 D75 K6 Plus': 345, '100 D75 K6 Plus 5Str': 346, '100 D75 K8': 347, '100 D75 K8 Dual Tone': 348, '100 G80 K2': 349, '100 G80 K4 Plus': 350, '100 G80 K4 Plus 5Str': 351, '100 G80 K6 Plus': 352, '100 G80 K8': 353, '100 G80 K8 Dual Tone': 354, '100 mFALCON D75 K2': 355, '100 mFALCON D75 K2 Plus': 356, '100 mFALCON D75 K4': 357, '100 mFALCON D75 K6': 358, '100 mFALCON D75 K6 Plus': 359, '100 mFALCON D75 K8': 360, '100 mFALCON G80 K2': 361, '100 mFALCON G80 K4': 362, '100 mFALCON G80 K4 Plus 5str': 363, '100 mFALCON G80 K6 AW': 364, '100 mFALCON G80 K8': 365, '100 mFALCON G80 K8 5str': 366, '100 mFALCON G80 K8 5str AW': 367, '100 mFALCON G80 K8 Dual Tone': 368, '110PS Diesel RXZ Optional with Nav': 369, '110PS Diesel RxL': 370, '110PS Diesel RxL AMT': 371, '110PS Diesel RxL Explore': 372, '110PS Diesel RxZ': 373, '110PS Diesel RxZ Plus': 374, '1500 DSL AC': 375, '1500 DSZ BSIII': 376, '2.0': 377, '2.0 Diesel': 378, '2.0 Diesel Portfolio': 379, '2.0 GLd': 380, '2.0 L Diesel LX': 381, '2.0 LXd': 382, '2.0 Limited': 383, '2.0 Limited 4X4': 384, '2.0 Limited Option': 385, '2.0 Limited Option 4X4': 386, '2.0 Limited Plus 4X4': 387, '2.0 Longitude BSIV': 388, '2.0 Longitude Option BSIV': 389, '2.0 TDI': 390, '2.0 TDI  Design Edition': 391, '2.0 TDI 177 Bhp Premium Plus': 392, '2.0 TDI AT Highline': 393, '2.0 TDI Comfortline': 394, '2.0 TDI Premium Plus': 395, '2.0 TDI Quattro Premium Plus': 396, '2.0 TDI Style': 397, '2.0 TDI Technology': 398, '2.0 e-VGT 2WD AT GLS': 399, '2.0L 2WD AT': 400, '2.0L CRDi MT': 401, '2.0L TDI Comfortline': 402, '2.0L TDI Highline': 403, '2.0L TDI Highline AT': 404, '2.2 LT': 405, '2.2 LTZ AWD': 406, '2.2 Litre Luxury': 407, '2.2 Titanium AT 4X2': 408, '2.4 4WD AT': 409, '2.4 A/T': 410, '2.4 AT': 411, '2.4 GDi MT': 412, '2.4 M/T': 413, '2.4 MT': 414, '2.4L 4WD': 415, '2.4L 4WD AT': 416, '2.4L 4WD AT AVN': 417, '2.4L 4WD MT': 418, '2.4L AT': 419, '2.5 4x2 MT TRD Sportivo': 420, '2.5 E 7 STR': 421, '2.5 E Diesel MS 7-seater': 422, '2.5 E Diesel MS 8-seater': 423, '2.5 E Diesel PS 7-Seater': 424, '2.5 EV (Diesel) PS 7 Seater BS IV': 425, '2.5 EV (Diesel) PS 8 Seater BS IV': 426, '2.5 EV Diesel MS 7 Str BSIII': 427, '2.5 EV Diesel PS 7 Seater BSIII': 428, '2.5 EV PS 8 STR BSIV': 429, '2.5 G (Diesel) 7 Seater': 430, '2.5 G (Diesel) 7 Seater BS IV': 431, '2.5 G (Diesel) 8 Seater': 432, '2.5 G (Diesel) 8 Seater BS IV': 433, '2.5 G1 Diesel 8-seater': 434, '2.5 G2': 435, '2.5 G4 Diesel 7-seater': 436, '2.5 G4 Diesel 8-seater': 437, '2.5 GX (Diesel) 7 Seater': 438, '2.5 GX (Diesel) 8 Seater': 439, '2.5 GX (Diesel) 8 Seater BS IV': 440, '2.5 GX 7 STR': 441, '2.5 GX 8 STR': 442, '2.5 GX 8 STR BSIV': 443, '2.5 Hybrid': 444, '2.5 V Diesel 7-seater': 445, '2.5 V Diesel 8-seater': 446, '2.5 VX (Diesel) 7 Seater': 447, '2.5 VX (Diesel) 7 Seater BS IV': 448, '2.5 VX (Diesel) 8 Seater': 449, '2.5 VX (Diesel) 8 Seater BS IV': 450, '2.5 VX 7 STR': 451, '2.5 VX 8 STR': 452, '2.5 VX 8 STR BSIV': 453, '2.5 Z Diesel 7 Seater': 454, '2.5 Z Diesel 7 Seater BS IV': 455, '2.5 ZX Diesel 7 Seater BSIII': 456, '2.5L 4X2': 457, '2.5L 4X2 MT': 458, '2.6 CRDe': 459, '2.6 CRDe SLE': 460, '2.6 DX': 461, '2.6 SLX Turbo 7 Seater': 462, '2.6 SPORTZ CRDe': 463, '2.6 Turbo 7 Str': 464, '2.6 Turbo 9 Str': 465, '2.8 2WD AT BSIV': 466, '2.8 2WD MT': 467, '2.8 2WD MT BSIV': 468, '2.8 4WD AT BSIV': 469, '2.8 4WD MT BSIV': 470, '2.8 SFX BSIII Single Tone': 471, '200 CGI Sport': 472, '2000 DSZ AC PS': 473, '2000 DSZ PW CL': 474, '2006-2009 LX 2.6 Turbo 9 Str': 475, '2006-2009 VLX 2WD 7 Str BSIII': 476, '2009-2014 EX 2WD 7S': 477, '2009-2014 EX 2WD 9S': 478, '2009-2014 EX 9S BSIII': 479, '2009-2014 SLE 7S BSIII': 480, '2009-2014 SLE 7S BSIV': 481, '2009-2014 VLX 2WD 7S BSIV': 482, '2011-2019 Camper': 483, '2011-2019 DI - AC BS III': 484, '2011-2019 DI 4WD NON AC': 485, '2011-2019 DI BSIII': 486, '2011-2019 DI NON AC BS III SILVER': 487, '2011-2019 DI NON AC BS III White': 488, '2011-2019 EX AC': 489, '2011-2019 EX NON AC': 490, '2011-2019 Plus - AC BSIII': 491, '2011-2019 Plus AC': 492, '2011-2019 Plus Non AC': 493, '2011-2019 Plus Non AC BSIV PS': 494, '2011-2019 Plus-AC Plus PS BSIII': 495, '2011-2019 SLE': 496, '2011-2019 SLE BSIII': 497, '2011-2019 SLX': 498, '2011-2019 SLX 2WD BSIII': 499, '2011-2019 Special Edition': 500, '2011-2019 ZLX': 501, '2011-2019 ZLX BSIII': 502, '2011-2019 mHAWK D70 ZLX': 503, '2015-2017 Asta 1.2': 504, '2015-2017 Asta 1.4 CRDi': 505, '2015-2017 Asta Option 1.2': 506, '2015-2017 Asta Option 1.4 CRDi': 507, '2015-2017 Magna 1.2': 508, '2015-2017 Magna 1.4 CRDi': 509, '2015-2017 Sportz 1.2': 510, '2015-2017 Sportz 1.4 CRDi': 511, '2015-2017 Sportz Option 1.2': 512, '2015-2017 Sportz Option 1.4 CRDi': 513, '2015-2019 1.0 MPI Comfortline': 514, '2015-2019 1.0 MPI Highline Plus': 515, '2015-2019 1.0 MPI Trendline': 516, '2015-2019 1.2 MPI Highline Plus': 517, '2015-2019 1.5 TDI Highline Plus': 518, '2015-2019 GT 1.5 TDI': 519, '2016-2019 2.0L Diesel Prestige': 520, '2016-2019 3.6 4X4': 521, '2017-2020 Alpha DDiS 200 SH': 522, '2017-2020 Delta DDiS 200 SH': 523, '2017-2020 EXi': 524, '2017-2020 GXi': 525, '2017-2020 Sigma DDiS 200 SH': 526, '2017-2020 VTEC': 527, '2017-2020 XZ': 528, '2017-2020 XZ Plus': 529, '2017-2020 XZ Plus Diesel': 530, '2017-2020 Zeta DDiS 200 SH': 531, '2019-2020 XZ': 532, '2019-2020 XZ Plus Diesel': 533, '2019-2020 XZ Plus Dual Tone': 534, '220d 4MATIC': 535, '220d 4MATIC Sport': 536, '2WD': 537, '3.0 Diesel': 538, '3.0 Litre S Premium Luxury': 539, '3.0 TDI Quattro': 540, '3.0 TDI Quattro Premium Plus': 541, '3.0L 4X2 AT': 542, '3.0L 4X4 AT': 543, '3.0d': 544, '3.2 Titanium AT 4X4': 545, '300 Plus P4 BSIV': 546, '300 T10': 547, '300 T4': 548, '300 T4 Plus': 549, '300 T6': 550, '300 T6 Plus': 551, '300 T6 Plus AMT': 552, '300 T8': 553, '300 T8 AMT': 554, '300 mHAWK100 T8': 555, '300 mHAWK100 T8 AMT': 556, '300 mHAWK100 T8 Dual Tone': 557, '300h': 558, '35 TDI Premium Plus': 559, '35 TDI Quattro Premium': 560, '35 TDI Quattro Premium Plus': 561, '35 TDI Quattro Technology': 562, '35 TFSI Matrix': 563, '350 CDI Blue Efficiency': 564, '350 CDI Luxury': 565, '35TDI Premium Plus': 566, '40 TFSI Premium': 567, '45 TDI quattro Technology': 568, '4X4': 569, '4x2 4 Speed AT': 570, '4x2 AT': 571, '4x2 AT TRD Sportivo': 572, '4x2 Manual': 573, '4x2 XLT Limited Edition': 574, '4x4': 575, '4x4 AT': 576, '4x4 MT': 577, '5 STR With AC Plus HTR CNG': 578, '5 Seater AC BSIV': 579, '5 Seater BSIV': 580, '5 Str STD': 581, '7 AT Premium': 582, '7 Seater Standard BSIV': 583, '8 Seater BSII': 584, '8 Seater BSIV': 585, '800 Base': 586, '800 CNG LXI': 587, '800 CNG LXI Optional': 588, '800 LX': 589, '800 LX Optional': 590, '800 LXI': 591, '800 LXI Airbag': 592, '800 LXI Anniversary Edition': 593, '800 LXI BSIV': 594, '800 LXI CNG': 595, '800 LXI Optional': 596, '800 VXI': 597, '800 VXI BSIV': 598, '800 VXI Optional': 599, '800 VXI Plus': 600, '85PS Diesel RxE': 601, '85PS Diesel RxE Adventure': 602, '85PS Diesel RxL': 603, '85PS Diesel RxL Explore': 604, '85PS Diesel RxL Option': 605, '85PS Diesel RxL Optional': 606, '85PS Diesel RxL Optional with Nav': 607, '85PS Diesel RxL Plus': 608, '85PS Diesel RxS': 609, '85PS Diesel RxZ': 610, '85PS Diesel STD': 611, '85PS RxE': 612, '85PS RxE 7 Seater': 613, '85PS RxL': 614, '85PS RxZ': 615, '85PS Std': 616, 'A': 617, 'A EPS': 618, 'A Option Petrol': 619, 'A Petrol': 620, 'AC': 621, 'AC BSII': 622, 'AC BSIII': 623, 'AC LPG': 624, 'AC Uniq': 625, 'AE': 626, 'AMT': 627, 'AMT 1.0 S': 628, 'AMT RXL': 629, 'AMT VDI': 630, 'AMT VVT VXI': 631, 'AMT VXI': 632, 'AMT ZDI': 633, 'AMT ZXI': 634, 'AMT ZXI BSIV': 635, 'AMT ZXI Plus BSIV': 636, 'AT W10 AWD': 637, 'AT W10 FWD': 638, 'AT W6 1.99 mHawk': 639, 'AT W6 2WD': 640, 'AT W8 FWD': 641, 'AT W9 2WD': 642, 'AT ZXi': 643, 'AX': 644, 'Active 1.2': 645, 'Active 1.2 S': 646, 'Active 1.2 SX': 647, 'Active 1.2 SX Dual Tone': 648, 'Active 1.2 SX with AVN': 649, 'Active 1.4': 650, 'Active 1.4 S': 651, 'Active 1.4 SX': 652, 'Active 1.4 SX Dual Tone': 653, 'Active 1.4 SX with AVN': 654, 'Active Base Petrol': 655, 'Active S Diesel': 656, 'Active S Petrol': 657, 'Active SX Diesel': 658, 'Active SX Petrol': 659, 'Active XL Petrol': 660, 'Active XV': 661, 'Active XV S': 662, 'Adventure Edition': 663, 'Adventure Edition RXZ AWD': 664, 'Alpha': 665, 'Alpha 1.2': 666, 'Alpha 1.3': 667, 'Alpha Automatic': 668, 'Alpha CVT': 669, 'Alpha Diesel': 670, 'Altis 1.4 DGL': 671, 'Altis 1.8 G': 672, 'Altis 1.8 G CVT': 673, 'Altis 1.8 J': 674, 'Altis 1.8 Sport': 675, 'Altis 1.8 VL AT': 676, 'Altis 1.8 VL CVT': 677, 'Altis D-4D G': 678, 'Altis D-4D J': 679, 'Altis Diesel D4DG': 680, 'Altis Diesel D4DJ': 681, 'Altis G': 682, 'Altis JS MT': 683, 'Ambiente': 684, 'Ambiente 1.9 PD': 685, 'Ambiente 1.9 TDI': 686, 'Ambiente 1.9 TDI MT': 687, 'Ambiente 2.0 TDI CR MT': 688, 'Ambition 2.0 TDI MT': 689, 'Ambition 4WD': 690, 'Anniversary Edition': 691, 'Aqua Quadrajet': 692, 'Aqua Quadrajet BS IV': 693, 'Aqua Safire': 694, 'Aspire 1.2 Ti-VCT Sports Edition': 695, 'Aspire 1.2 Ti-VCT Titanium': 696, 'Aspire 1.2 Ti-VCT Titanium Plus': 697, 'Aspire 1.2 Ti-VCT Trend': 698, 'Aspire 1.5 TDCi Ambiente': 699, 'Aspire 1.5 TDCi Sports Edition': 700, 'Aspire 1.5 TDCi Titanium': 701, 'Aspire 1.5 TDCi Titanium Opt': 702, 'Aspire 1.5 TDCi Trend': 703, 'Aspire 1.5 Ti-VCT Titanium': 704, 'Aspire Titanium': 705, 'Aspire Titanium Diesel': 706, 'Asta': 707, 'Asta (o)': 708, 'Asta (o) 1.4 CRDi (Diesel)': 709, 'Asta 1.2': 710, 'Asta 1.4 CRDi': 711, 'Asta 1.4 CRDi (Diesel)': 712, 'Asta BSIV': 713, 'Asta Option 1.2': 714, 'Asta Option 1.4 CRDi': 715, 'Asta Optional With Sunroof 1.2': 716, 'Asta Optional with Sunroof 1.2': 717, 'Asta Sunroof AT': 718, 'Aura (ABS) Quadrajet': 719, 'Aura (ABS) Quadrajet BS IV': 720, 'Aura (ABS) Safire': 721, 'Aura (ABS) Safire BS IV': 722, 'Aura Plus Quadrajet': 723, 'Aura Plus Quadrajet BS IV': 724, 'Aura Plus Safire': 725, 'Aura Quadrajet': 726, 'Aura Quadrajet BS IV': 727, 'Aura Safire': 728, 'B1-10 seats BSII': 729, 'B2': 730, 'B2 8 Seats BSIII': 731, 'B3 LT L1 10 Seats BSIII': 732, 'B4': 733, 'BSIV LXI': 734, 'BSIV VXI': 735, 'BSIV ZXI Plus': 736, 'Base': 737, 'Basic': 738, 'Brezza LDi': 739, 'Brezza LDi Option': 740, 'Brezza VDi': 741, 'Brezza VDi AMT': 742, 'Brezza VDi Option': 743, 'Brezza ZDi': 744, 'Brezza ZDi AMT': 745, 'Brezza ZDi Plus': 746, 'Brezza ZDi Plus AMT': 747, 'Brezza ZDi Plus AMT Dual Tone': 748, 'Brezza ZDi Plus Dual Tone': 749, 'Brezza ZXI Plus AT Dual Tone': 750, 'C-Class 200 K AT': 751, 'C-Class 220 CDI AT': 752, 'C-Class 250 CDI Classic': 753, 'C-Class C 200 AVANTGARDE': 754, 'C-Class C 200 Kompressor Elegance AT': 755, 'C-Class C 200 Kompressor Elegance MT': 756, 'C-Class C 220 CDI BE Avantgare': 757, 'C-Class C 220 CDI Elegance AT': 758, 'C-Class C 220 CDI Elegance MT': 759, 'C-Class C 250 CDI Elegance': 760, 'C2': 761, 'C4': 762, 'C6': 763, 'C8': 764, 'CNG 5 Seater AC': 765, 'CNG 5 Seater AC BSIV': 766, 'CNG HTR 5-STR': 767, 'CR4': 768, 'CRDe': 769, 'CRDe ABS': 770, 'CRDe AC': 771, 'CRDi': 772, 'CRDi 1.4 EX': 773, 'CRDi 1.6 AT SX Option': 774, 'CRDi 1.6 AT SX Plus': 775, 'CRDi 1.6 EX': 776, 'CRDi 1.6 SX': 777, 'CRDi 1.6 SX Option': 778, 'CRDi ABS': 779, 'CRDi M/T': 780, 'CRDi SX': 781, 'CRDi SX ABS': 782, 'CRDi SX Option AT': 783, 'CS GLS BSIII': 784, 'CS GLX BS III': 785, 'CS LE (TDI) BS-III': 786, 'CS LS (TDI) BS III': 787, 'CS LS (TDI) BS-III': 788, 'CS LS DiCOR': 789, 'CS LX (TDI) BS III': 790, 'CS LX (TDI) BS-III': 791, 'CS LX DiCOR': 792, 'CS eGLS BS IV': 793, 'CS eGLX BS IV': 794, 'CS eLS BS IV': 795, 'CS eLX BS IV': 796, 'CS eVX': 797, 'CX': 798, 'CX 10 Str BSIV': 799, 'CX 9 Seater': 800, 'Celebration Diesel': 801, 'Class 200': 802, 'Class 200 CDI': 803, 'Class 200 CDI SPORT': 804, 'Class 200 D Sport Edition': 805, 'Class B180': 806, 'Class B180 Sports': 807, 'Class B200 CDI Sport': 808, 'Classic': 809, 'Classic 1.3 Multijet': 810, 'Classic 1.4 Duratorq CLXI': 811, 'Classic 1.4 Duratorq LXI': 812, 'Classic 1.4 SXI Duratorq': 813, 'Classic 1.6 Duratec CLXI': 814, 'Classic 1.6 Duratec LXI': 815, 'Classic 1.6 SXI Duratec': 816, 'Classic 1.9 TDI MT': 817, 'Classic Plus 1.3 Multijet': 818, 'Climber 1.0 AMT': 819, 'Climber 1.0 MT': 820, 'Climber 1.0 MT BSIV': 821, 'Club Class Quadrajet90 EX': 822, 'Club Class Quadrajet90 LS': 823, 'Club Class Quadrajet90 LX': 824, 'Club Class Quadrajet90 VX': 825, 'Corporate Edition': 826, 'Cross 1.2L G': 827, 'Cross 1.4L GD': 828, 'Cross Country D3': 829, 'Cruiser Prado VX L': 830, 'Crysta 2.4 G MT 8 STR': 831, 'Crysta 2.4 GX MT 8S BSIV': 832, 'Crysta 2.4 GX MT BSIV': 833, 'Crysta 2.4 VX MT': 834, 'Crysta 2.4 VX MT 8S BSIV': 835, 'Crysta 2.4 VX MT BSIV': 836, 'Crysta 2.4 ZX AT': 837, 'Crysta 2.4 ZX MT': 838, 'Crysta 2.4 ZX MT BSIV': 839, 'Crysta 2.5 VX BS IV': 840, 'Crysta 2.7 GX AT 8 STR': 841, 'Crysta 2.7 ZX AT BSIV': 842, 'Crysta 2.8 GX AT 8S BSIV': 843, 'Crysta 2.8 GX AT BSIV': 844, 'Crysta 2.8 ZX AT BSIV': 845, 'Cx': 846, 'Cx BSIII': 847, 'Cx BSIV': 848, 'D': 849, 'D Lite': 850, 'D Lite Plus': 851, 'D Lite Plus Option': 852, 'D Petrol': 853, 'D2': 854, 'D2 BS III': 855, 'D2 BS IV': 856, 'D2 BSIV': 857, 'D2 Maxx': 858, 'D3 R-Design': 859, 'D4': 860, 'D4 BSIII': 861, 'D4 BSIV': 862, 'D4 Inscription BSIV': 863, 'D4 R-Design': 864, 'D4 SUMMUM': 865, 'DDiS LDI': 866, 'DDiS VDI': 867, 'DI': 868, 'DI 4X4': 869, 'DI 4X4 PS': 870, 'DI AC BSIII': 871, 'DI BSIII': 872, 'DI DX 7 Seater': 873, 'DI DX 8 Seater': 874, 'DI Non AC BSIII': 875, 'DICOR 2.2 EX 4x2': 876, 'DICOR 2.2 LX 4x2': 877, 'DLS': 878, 'DX': 879, 'DX 5 Speed': 880, 'DX BSII': 881, 'Delta': 882, 'Delta 1.2': 883, 'Delta 1.3': 884, 'Delta Automatic': 885, 'Delta Automatic BSIV': 886, 'Delta BSIV': 887, 'Delta Diesel': 888, 'Deluxe - Flat Roof (Non-AC)': 889, 'Diesel': 890, 'Diesel 1.5 DLE': 891, 'Diesel 1.5 DLS': 892, 'Diesel Asta Option': 893, 'Diesel Breeze': 894, 'Diesel Celebration Edition': 895, 'Diesel Comfortline': 896, 'Diesel Comfortline 1.2L': 897, 'Diesel E4': 898, 'Diesel EXI': 899, 'Diesel EXI Option': 900, 'Diesel Highline': 901, 'Diesel Highline 1.2L': 902, 'Diesel LS': 903, 'Diesel LT': 904, 'Diesel LT Option': 905, 'Diesel LXI': 906, 'Diesel RxE': 907, 'Diesel RxL': 908, 'Diesel RxZ': 909, 'Diesel Style': 910, 'Diesel TRD Sportivo': 911, 'Diesel Titanium': 912, 'Diesel Trendline': 913, 'Diesel Trendline 1.2L': 914, 'Diesel XL': 915, 'Diesel XL Optional': 916, 'Diesel XV': 917, 'Diesel XV Premium': 918, 'Diesel ZXI': 919, 'Discovery Sport TD4 SE': 920, 'Dzire 1.2 Lxi BSIV': 921, 'Dzire 1.2 Vxi BSIV': 922, 'Dzire AMT VDI': 923, 'Dzire AMT VXI': 924, 'Dzire AMT VXI BS IV': 925, 'Dzire AMT ZDI': 926, 'Dzire AMT ZDI Plus': 927, 'Dzire AMT ZXI': 928, 'Dzire AMT ZXI Plus': 929, 'Dzire LDI': 930, 'Dzire LDI Optional': 931, 'Dzire LDIX Limited Edition': 932, 'Dzire LDi': 933, 'Dzire LXI': 934, 'Dzire LXI 1.2 BS IV': 935, 'Dzire LXi': 936, 'Dzire Ldi BSIV': 937, 'Dzire Tour LDI': 938, 'Dzire Tour S CNG': 939, 'Dzire VDI': 940, 'Dzire VDI Optional': 941, 'Dzire VDi': 942, 'Dzire VXI': 943, 'Dzire VXI 1.2': 944, 'Dzire VXI 1.2 BS IV': 945, 'Dzire VXI Optional': 946, 'Dzire VXi': 947, 'Dzire VXi AT': 948, 'Dzire Vdi BSIV': 949, 'Dzire ZDI': 950, 'Dzire ZDI Plus': 951, 'Dzire ZDi': 952, 'Dzire ZXI': 953, 'Dzire ZXI Plus': 954, 'Dzire ZXI Plus BS IV': 955, 'Dzire ZXi': 956, 'Dzire Zdi BSIV': 957, 'E': 958, 'E 220 CDI Avantgarde': 959, 'E 250 Elegance': 960, 'E 8 Str STD': 961, 'E Diesel BSIV': 962, 'E MPI STD BS IV': 963, 'E MT': 964, 'E Option i-DTEC': 965, 'E i-DTEC': 966, 'E i-Dtech': 967, 'E i-VTEC': 968, 'E250 CDI Avantgarde': 969, 'E250 CDI Avantgrade': 970, 'E250 CDI Elegance': 971, 'E250 Edition E': 972, 'E270 CDI': 973, 'E350 Petrol': 974, 'E4': 975, 'E4 8S': 976, 'E4 ABS BS IV': 977, 'E4 BS III': 978, 'E4 BS IV': 979, 'E6': 980, 'E8': 981, 'E8 ABS Airbag': 982, 'E8 ABS Airbag BSIV': 983, 'ELAN Quadrajet BS III': 984, 'ELAN Quadrajet BS IV': 985, 'EVO 1.3 Emotion': 986, 'EX': 987, 'EX 10/7 Str BSIII': 988, 'EX 5 Speed': 989, 'EX 7 Str': 990, 'EX 7 Str Captain Seats': 991, 'EX BSII': 992, 'EX TC': 993, 'EX i-Vtech': 994, 'EXi 1.4 TDCi Ltd': 995, 'Elegance 1.8 TSI AT': 996, 'Elegance 2.0 TDI CR AT': 997, 'Emotion': 998, 'Emotion (Diesel)': 999, 'Era': 1000, 'Era 1.1': 1001, 'Era 1.1 iTech SE': 1002, 'Era 1.2': 1003, 'Era 1.4 CRDi': 1004, 'Era Diesel': 1005, 'Era Plus': 1006, 'Era Plus Sports Edition': 1007, 'Estilo 1.1 LX BSIII': 1008, 'Estilo 1.1 LXI BSIII': 1009, 'Estilo 1.1 VXI BSIII': 1010, 'Estilo LX BSIV': 1011, 'Estilo LXI BS IV': 1012, 'Estilo LXI BSIII': 1013, 'Estilo LXI Green (CNG)': 1014, 'Estilo Sports': 1015, 'Estilo VXI BSIII': 1016, 'Estilo VXI BSIV': 1017, 'Etios 1.4 GD': 1018, 'Etios 1.4 GXD': 1019, 'Exclusive E 200 BSIV': 1020, 'Exclusive Edition': 1021, 'Executive': 1022, 'Executive CNG': 1023, 'Executive LPG': 1024, 'FS B3': 1025, 'Fashion Edition XL CVT': 1026, 'Fe 2WD AT': 1027, 'Fe 2WD MT': 1028, 'Fe 4WD AT': 1029, 'Fe 4X4': 1030, 'Fe 4x4 AT': 1031, 'Freelander 2 TD4 HSE': 1032, 'G': 1033, 'G CVT': 1034, 'G Safety': 1035, 'G Smart Hybrid': 1036, 'GD': 1037, 'GLE': 1038, 'GLE CNG': 1039, 'GLS': 1040, 'GLS 1.6': 1041, 'GLS 1.6 ABS': 1042, 'GLS BS IV': 1043, 'GLX': 1044, 'GT': 1045, 'GT TDI': 1046, 'GT TSI': 1047, 'GT TSI BSIV': 1048, 'GX': 1049, 'GX 7 Str BSII': 1050, 'Gateway 2WD': 1051, 'Genus VDi': 1052, 'Getaway': 1053, 'Glam': 1054, 'Gold CX BSIII': 1055, 'Gold EX': 1056, 'Gold EX BSIII': 1057, 'Gold GX': 1058, 'Gold GX BSIII': 1059, 'Gold-10/6 Str BSII': 1060, 'Grand Dicor': 1061, 'Grand Petrol': 1062, 'Green LXi (CNG)': 1063, 'Green Vxi (CNG)': 1064, 'H2': 1065, 'H4': 1066, 'H9': 1067, 'HTE D': 1068, 'HTX Plus AT D': 1069, 'Hard Top BS3 4WD': 1070, 'Hatchback 1.2': 1071, 'Hatchback 1.2 LS': 1072, 'Hatchback Diesel': 1073, 'Hatchback Diesel Base': 1074, 'Hatchback LS ABS': 1075, 'Hatchback LT ABS': 1076, 'Hatchback Petrol': 1077, 'Hatchback Petrol LS ABS': 1078, 'Highline DSG S': 1079, 'Highline DSG S (Spl. Edition)': 1080, 'Hurricane Limited Edition': 1081, 'Hybrid': 1082, 'IPL II Diesel Trendline': 1083, 'Inscription D5 BSIV': 1084, 'Intelli Hybrid S10': 1085, 'Intelli Hybrid S10 4WD': 1086, 'Intelli Hybrid S6 Plus': 1087, 'K10 2010-2014 VXI': 1088, 'K10 Knightracer': 1089, 'K10 LX': 1090, 'K10 LXI': 1091, 'K10 LXI CNG': 1092, 'K10 VXI': 1093, 'K10 VXI AGS': 1094, 'K10 VXI AGS Optional': 1095, 'K10 VXI Airbag': 1096, 'K10 VXI Optional': 1097, 'King ST BSIII': 1098, 'King Soft Top': 1099, 'King Soft Top MPI BSIV': 1100, 'Konekt Diesel Highline': 1101, 'L and K 1.9 TDI (MT)': 1102, 'L and K 1.9 TDI MT': 1103, 'LDI': 1104, 'LDI BSIV': 1105, 'LDI Option': 1106, 'LDI Optional': 1107, 'LDI SP Limited Edition': 1108, 'LDi': 1109, 'LK 1.8 TSI AT': 1110, 'LPG': 1111, 'LPG CARGO BSIII W IMMOBILISER': 1112, 'LPG Era Plus': 1113, 'LS': 1114, 'LS B3 10 Seats BSII': 1115, 'LS BSII': 1116, 'LT': 1117, 'LT ABS': 1118, 'LTZ': 1119, 'LTZ 4X2 AT': 1120, 'LTZ AT': 1121, 'LX': 1122, 'LX - BS III': 1123, 'LX - BSIII': 1124, 'LX 2.6 Turbo': 1125, 'LX 7 Str': 1126, 'LX 8 Str': 1127, 'LX BSII': 1128, 'LX BSIII': 1129, 'LX BSIV': 1130, 'LX Non AC BSIII': 1131, 'LX SE': 1132, 'LXI': 1133, 'LXI Option': 1134, 'LXI Optional-O': 1135, 'LXi': 1136, 'LXi - BS III': 1137, 'LXi BSIII': 1138, 'LXi BSIV': 1139, 'Ldi BSIII': 1140, 'Ldi BSIV': 1141, 'Limited Edition': 1142, 'Liva 1.2 V Dual Tone': 1143, 'Liva 1.4 GD': 1144, 'Liva 1.4 VD': 1145, 'Liva Diesel': 1146, 'Liva G': 1147, 'Liva GD': 1148, 'Liva GD SP': 1149, 'Liva VD': 1150, 'Liva VXD': 1151, 'Logan 1.4 GLX Petrol': 1152, 'Logan 1.5 DLE Diesel': 1153, 'Logan 1.5 DLX Diesel': 1154, 'Logan 1.5 Diesel DLSX': 1155, 'Lx': 1156, 'Lx BSIV': 1157, 'Lxi': 1158, 'Lxi - BSIII': 1159, 'Lxi BSIII': 1160, 'M Sport X xDrive20d': 1161, 'M2 8Str BSIV': 1162, 'M2 BSIV': 1163, 'M2DI': 1164, 'M6': 1165, 'M6 8Str': 1166, 'M8': 1167, 'MKII CX BS IV': 1168, 'MKII GX BS IV': 1169, 'MKII Turbo 2.0 LX': 1170, 'ML 250 CDI': 1171, 'ML 350 4Matic': 1172, 'ML 350 CDI': 1173, 'MPI CARGO BSIV': 1174, 'MPI STD BSIII 8-STR W/ IMMOBILISER': 1175, 'MPI STD BSIV': 1176, 'MULTIJET Emotion': 1177, 'Magna': 1178, 'Magna 1.1L': 1179, 'Magna 1.2': 1180, 'Magna 1.2 iTech SE': 1181, 'Magna 1.4 CRDi': 1182, 'Magna 1.4 CRDi (Diesel)': 1183, 'Magna AMT BSIV': 1184, 'Magna BSIV': 1185, 'Magna LPG': 1186, 'Magna Optional': 1187, 'Magna Optional 1.2': 1188, 'Magna Optional 1.4 CRDi': 1189, 'Magna Plus': 1190, 'Magna Plus Option': 1191, 'Magnum 1.6 LT Petrol': 1192, 'Magnum 2.0 LS': 1193, 'Magnum 2.0 LS BSIII': 1194, 'Magnum 2.0 LT': 1195, 'Magnum 2.0 LT BS3': 1196, 'Monte Carlo 1.5 TDI AT BSIV': 1197, 'N8': 1198, 'N8 AMT': 1199, 'NRG Petrol': 1200, 'NRG Petrol AMT': 1201, 'Neo 3 10 Seats BSIII': 1202, 'Neo 3 9 Str BSIII': 1203, 'Neo 3 LS 10 Seats BSIII': 1204, 'Neo 3 LS 10 Str': 1205, 'Neo 3 LS 9 Str BSIII': 1206, 'Neo 3 LT 9 Seats BSIII': 1207, 'Neo 3 LT 9 Seats BSIV': 1208, 'Neo LS B3 - 10 seats BSIII': 1209, 'Neo LS B3 - 7(C) seats BSIII': 1210, 'Neo LT-L - 9 seats BSII': 1211, 'PLUS AC': 1212, 'PLUS AC BSIII': 1213, 'Petrol 1.4 GLE': 1214, 'Petrol CVT Asta': 1215, 'Petrol Comfortline 1.2L': 1216, 'Petrol EXI': 1217, 'Petrol Highline': 1218, 'Petrol Highline 1.2L': 1219, 'Petrol Highline AT': 1220, 'Petrol LS 7 Seater': 1221, 'Petrol LXI': 1222, 'Petrol RXS CVT': 1223, 'Petrol Titanium': 1224, 'Petrol Trendline': 1225, 'Petrol Trendline 1.2L': 1226, 'Petrol ZXI': 1227, 'Pik-Up CBC 1.7T': 1228, 'Pik-Up FB 1.7T': 1229, 'Pleasure 4x2': 1230, 'Plus 1.4 TDCi Diesel': 1231, 'Plus A': 1232, 'Plus A Option Petrol': 1233, 'Plus Anniversary Edition': 1234, 'Plus D': 1235, 'Plus D1': 1236, 'Plus T': 1237, 'Plus T BSIV': 1238, 'Plus T Option BSIV': 1239, 'Plus T VDC': 1240, 'Power Plus LX': 1241, 'Power Plus Plus AC BSIV PS': 1242, 'Power Plus Plus Non AC BSIV PS': 1243, 'Power Plus SLE': 1244, 'Power Plus SLX': 1245, 'Power Plus ZLX': 1246, 'Power Up 1.3 Active': 1247, 'Power Up 1.3 Emotion': 1248, 'Prestige 4x2': 1249, 'Pride': 1250, 'Punto 1.3 Dynamic (Diesel)': 1251, 'Punto 1.3 Emotion (Diesel)': 1252, 'Punto 1.3 Emotion Pack 90HP (Diesel)': 1253, 'Punto 1.4 Emotion': 1254, 'Punto Active (Diesel)': 1255, 'Punto EVO 1.2 Dynamic': 1256, 'Punto EVO 1.3 Active': 1257, 'Punto EVO 1.3 Dynamic': 1258, 'Punto Sport 90BHP': 1259, 'Pure 1.2L FIRE': 1260, 'Pure LX 4x2': 1261, 'Quadrajet 1.3 75PS XE': 1262, 'Quadrajet 1.3 75PS XM': 1263, 'Quadrajet 1.3 75PS XMS': 1264, 'Quadrajet 1.3 Anniversary Edition': 1265, 'Quadrajet 1.3 XM': 1266, 'Quadrajet 1.3 XMS': 1267, 'Quadrajet 1.3 XT': 1268, 'Quadrajet XE': 1269, 'Quadrajet XM': 1270, 'R AMT VXI': 1271, 'R AMT VXI Option': 1272, 'R AMT VXI Plus': 1273, 'R AX': 1274, 'R AX BSIII': 1275, 'R AX BSIV': 1276, 'R AX Minor': 1277, 'R CNG LXI': 1278, 'R Duo Lxi': 1279, 'R LX': 1280, 'R LX BSIII': 1281, 'R LX Minor': 1282, 'R LXI': 1283, 'R LXI BS IV': 1284, 'R LXI BSIII': 1285, 'R LXI CNG': 1286, 'R LXI CNG Optional': 1287, 'R LXI DUO BS IV': 1288, 'R LXI DUO BSIII': 1289, 'R LXI LPG BSIV': 1290, 'R LXI Minor': 1291, 'R LXI Optional': 1292, 'R PRIMEA': 1293, 'R Stingray VXI': 1294, 'R Stingray VXI Optional': 1295, 'R VXI': 1296, 'R VXI 1.2': 1297, 'R VXI AMT 1.2': 1298, 'R VXI AMT Opt 1.2': 1299, 'R VXI BS IV': 1300, 'R VXI BS IV with ABS': 1301, 'R VXI BSIII': 1302, 'R VXI Minor': 1303, 'R VXI Opt 1.2': 1304, 'R VXI Optional': 1305, 'R VXI Plus': 1306, 'R VXI Plus Optional': 1307, 'R VXi BSII': 1308, 'RS 1.0 Petrol': 1309, 'RS 1.8 Turbo Petrol MT': 1310, 'RS Option i DTEC': 1311, 'RS ZDi Plus SHVS': 1312, 'RS ZXi Plus': 1313, 'RS i DTEC': 1314, 'RXE': 1315, 'RXL': 1316, 'RXL AWD': 1317, 'RXT': 1318, 'RXT BSIV': 1319, 'RXT Optional': 1320, 'RXZ': 1321, 'RXZ 110PS AMT BSIV': 1322, 'RXZ BSIV': 1323, 'Range Rover Evoque 2.2L Pure': 1324, 'Revotron 1.2 XT': 1325, 'Revotron 1.2T XM': 1326, 'Revotron 1.2T XMS': 1327, 'Revotron XE': 1328, 'Revotron XM': 1329, 'Rexton RX5': 1330, 'Rexton RX7': 1331, 'Rider 1.9 AT TDI': 1332, 'RxL': 1333, 'RxL Optional': 1334, 'RxZ': 1335, 'RxZ Optional': 1336, 'S': 1337, 'S 1.3': 1338, 'S 350 CDI': 1339, 'S AT i-Vtech': 1340, 'S CVT Diesel BSIV': 1341, 'S CVT Petrol BSIV': 1342, 'S CVT i-VTEC': 1343, 'S Cross 2015-2017 DDiS 200 Alpha': 1344, 'S Cross 2015-2017 DDiS 200 Sigma': 1345, 'S Cross 2015-2017 DDiS 200 Zeta': 1346, 'S Diesel': 1347, 'S Diesel BSIV': 1348, 'S MT': 1349, 'S Option i-DTEC': 1350, 'S Petrol BSIV': 1351, 'S i DTEC': 1352, 'S i VTEC': 1353, 'S i-DTEC': 1354, 'S i-Dtech': 1355, 'S i-VTEC': 1356, 'S i-Vtech': 1357, 'S10 4WD': 1358, 'S10 7 Seater': 1359, 'S11 4WD BSIV': 1360, 'S11 BSIV': 1361, 'S2 7 Seater': 1362, 'S2 9 Seater': 1363, 'S3 9 Seater BSIV': 1364, 'S4 7 Seater': 1365, 'S4 9 Seater': 1366, 'S4 Plus': 1367, 'S4 Plus 4WD': 1368, 'S5 BSIV': 1369, 'S7 120': 1370, 'SD': 1371, 'SE': 1372, 'SE Plus BSII': 1373, 'SHVS LDI Option': 1374, 'SHVS VDI': 1375, 'SHVS ZDI': 1376, 'SHVS ZDI Plus': 1377, 'SLE': 1378, 'SLE BS IV': 1379, 'SLE BSIII': 1380, 'SLE BSIV': 1381, 'SLX': 1382, 'SLX 2.6 Turbo 8 Str': 1383, 'SLX 2WD': 1384, 'SLX 2WD BSIII': 1385, 'SLX 4WD': 1386, 'SLX 4WD BSIII': 1387, 'SLX 4WD LE': 1388, 'SS': 1389, 'STD': 1390, 'SV 1.0': 1391, 'SX': 1392, 'SX ABS 7 Seating': 1393, 'SX AT': 1394, 'SX CRDi AT': 1395, 'SX Diesel': 1396, 'SX Opt': 1397, 'SX Plus Dual Tone Turbo DCT': 1398, 'SX Plus Turbo DCT BSIV': 1399, 'SX i-DTEC': 1400, 'Safari 3L Dicor LX 4x2': 1401, 'Safari 4X2': 1402, 'Safari 4X4 EXI BSIII': 1403, 'Safari DICOR 2.2 EX 4x2': 1404, 'Safari DICOR 2.2 EX 4x4': 1405, 'Safari DICOR 2.2 EX 4x4 BS IV': 1406, 'Safari DICOR 2.2 GX 4x2': 1407, 'Safari DICOR 2.2 GX 4x2 BS IV': 1408, 'Safari DICOR 2.2 LX 4x2': 1409, 'Safari DICOR 2.2 VX 4x2': 1410, 'Safari DICOR 2.2 VX 4x2 BS IV': 1411, 'Safari DICOR 2.2 VX 4x4': 1412, 'Safari Dicor EX 4X2 BS IV': 1413, 'Safari Dicor GX 4X2 BS IV': 1414, 'Safari Dicor LX 4X2 BS IV': 1415, 'Safari Dicor VX 4X2': 1416, 'Safari Dicor VX 4X2 BS IV': 1417, 'Scout 1.2 TDI': 1418, 'Select 1.2 MPI Highline': 1419, 'Select 1.5 TDI Highline': 1420, 'Select Edition Active': 1421, 'Series 320d': 1422, 'Series 320d Corporate Edition': 1423, 'Series 320d GT Luxury Line': 1424, 'Series 320d Highline': 1425, 'Series 320d Luxury Line': 1426, 'Series 320d Luxury Line Plus': 1427, 'Series 320d Luxury Plus': 1428, 'Series 320d Prestige': 1429, 'Series 320d Sedan': 1430, 'Series 520d': 1431, 'Series 520d Luxury Line': 1432, 'Series 520d Sport Line': 1433, 'Series 523i': 1434, 'Series 525d': 1435, 'Series 530d': 1436, 'Series 730Ld': 1437, 'Series GT 630d Luxury Line': 1438, 'Series GT Luxury Line': 1439, 'Sharp AT BSIV': 1440, 'Sharp DCT Dualtone': 1441, 'Sigma': 1442, 'Sigma 1.2': 1443, 'Sigma 1.3': 1444, 'Smart DCT': 1445, 'Smiles 5 Seater AC': 1446, 'Smiles 7 Seater Standard': 1447, 'Sport': 1448, 'Sport 4X4': 1449, 'Sport 4X4 Dual Tone': 1450, 'Sport Anniversary Edition': 1451, 'Sports Diesel': 1452, 'Sportz': 1453, 'Sportz 1.1L': 1454, 'Sportz 1.1L LPG': 1455, 'Sportz 1.2': 1456, 'Sportz 1.2 AT': 1457, 'Sportz 1.4 CRDi': 1458, 'Sportz AMT BSIV': 1459, 'Sportz AT': 1460, 'Sportz AT 1.4': 1461, 'Sportz BSIV': 1462, 'Sportz Diesel': 1463, 'Sportz Option': 1464, 'Sportz Option 1.2': 1465, 'Sportz Option 1.4 CRDi': 1466, 'Star VDI': 1467, 'Std': 1468, 'Std BSII': 1469, 'Std BSIII': 1470, 'Std MPFi': 1471, 'Stepway 110PS RXZ 7S': 1472, 'Stepway 85PS RXZ 8S': 1473, 'Stile LE': 1474, 'Storme EX': 1475, 'Storme LX': 1476, 'Storme VX': 1477, 'Storme VX Varicor 400': 1478, 'Style Plus 2.0 TDI AT': 1479, 'T': 1480, 'T BSIV': 1481, 'T Option': 1482, 'T Option BSIV': 1483, 'T Petrol': 1484, 'T8 Excellence BSIV': 1485, 'TCDi LS 8 Seater': 1486, 'TCDi LT 7 Seater': 1487, 'TCDi LTZ 7 Seater': 1488, 'TDI': 1489, 'Titanium 1.5 TDCi': 1490, 'Titanium BSIV': 1491, 'Titanium Blu': 1492, 'Titanium Diesel': 1493, 'Titanium Diesel BSIV': 1494, 'Titanium Petrol BSIV': 1495, 'Titanium Plus Diesel': 1496, 'Titanium Plus Diesel BSIV': 1497, 'Titanium Plus Petrol BSIV': 1498, 'Transform CRDi VGT SX ABS': 1499, 'Transform SX VGT CRDi': 1500, 'Transform SX VGT CRDi AT BS III': 1501, 'Transform SX VTVT': 1502, 'Transform VGT CRDi': 1503, 'Transform VTVT': 1504, 'Trend Diesel': 1505, 'Trend Diesel BSIV': 1506, 'Trend Petrol BSIV': 1507, 'Trend Plus': 1508, 'Twist XE': 1509, 'Twist XT': 1510, 'U-VA 1.2': 1511, 'U-VA 1.2 LS': 1512, 'U-VA 1.2 LT': 1513, 'Ultima 1.6 TDI Elegance': 1514, 'Uniq': 1515, 'V': 1516, 'V AT': 1517, 'V BSIII': 1518, 'V BSIV': 1519, 'V CVT': 1520, 'V CVT BSIV': 1521, 'V CVT Petrol BSIV': 1522, 'V Diesel': 1523, 'V MT': 1524, 'V Petrol BSIV': 1525, 'V i DTEC': 1526, 'V i VTEC': 1527, 'V-Cross 4X4': 1528, 'V-Cross Z Prestige': 1529, 'V2 1.2 GLE BSIII': 1530, 'V2 2001-2011 DLS BSIII': 1531, 'V2 2001-2011 eLX': 1532, 'V2 DL': 1533, 'V2 DL BSIII': 1534, 'V2 DLE BSII': 1535, 'V2 DLE BSIII': 1536, 'V2 DLG TC': 1537, 'V2 DLS': 1538, 'V2 DLS BSIII': 1539, 'V2 DLS TC': 1540, 'V2 DLX': 1541, 'V2 DLX BSII': 1542, 'V2 DLX BSIII': 1543, 'V2 DLX TC': 1544, 'V2 DiCOR DLG BS-III': 1545, 'V2 Emax CNG GLX': 1546, 'V2 GLX BSIII': 1547, 'V2 LSi': 1548, 'V2 Turbomax DLS BS IV': 1549, 'V2 eLS': 1550, 'V2 eLX': 1551, 'V2 eXeta GLS': 1552, 'V4 (MT)': 1553, 'V6 AT': 1554, 'VD': 1555, 'VDI': 1556, 'VDI BSIV': 1557, 'VDI Deca': 1558, 'VDI Optional': 1559, 'VDI SHVS': 1560, 'VDI Windsong Limited edition': 1561, 'VDi': 1562, 'VDi ABS': 1563, 'VDi BSIII W/ ABS': 1564, 'VDi Option SHVS': 1565, 'VDi Plus': 1566, 'VDi Plus SHVS': 1567, 'VIVA CRDi': 1568, 'VLS 2.2 mHawk': 1569, 'VLS AT 2.2 mHAWK': 1570, 'VLX 2WD ABS AT BSIII': 1571, 'VLX 2WD AIRBAG AT BSIV': 1572, 'VLX 2WD AIRBAG BSIII': 1573, 'VLX 2WD AIRBAG BSIV': 1574, 'VLX 2WD AIRBAG SE BSIV': 1575, 'VLX 2WD AT BSIII': 1576, 'VLX 2WD BSIII': 1577, 'VLX 2WD BSIV': 1578, 'VLX 4WD AIRBAG AT BSIV': 1579, 'VLX 4WD AIRBAG BSIV': 1580, 'VLX AT AIRBAG BSIV': 1581, 'VLX CRDe': 1582, 'VS': 1583, 'VTVT 1.6 AT SX Option': 1584, 'VTVT 1.6 SX': 1585, 'VTVT 1.6 SX Option': 1586, 'VTi-L MT': 1587, 'VVT VXI': 1588, 'VVT ZXI': 1589, 'VX': 1590, 'VX CVT': 1591, 'VX Diesel': 1592, 'VX Diesel BSIV': 1593, 'VX O iDTEC': 1594, 'VX Petrol BSIV': 1595, 'VX i-DTEC': 1596, 'VX i-VTEC': 1597, 'VXD': 1598, 'VXI': 1599, 'VXI 2018': 1600, 'VXI AT': 1601, 'VXI BSIII': 1602, 'VXI BSIII W/ ABS': 1603, 'VXI BSIV': 1604, 'VXI CNG Limited Edition': 1605, 'VXI Deca': 1606, 'VXI Limited Edition': 1607, 'VXI MT BSIV': 1608, 'VXI Optional': 1609, 'VXI Petrol': 1610, 'VXI Windsong Limited edition': 1611, 'VXI with ABS': 1612, 'VXi': 1613, 'VXi (ABS) BS IV': 1614, 'VXi - BS III': 1615, 'VXi AMT': 1616, 'VXi BSIV': 1617, 'VXi Plus': 1618, 'Vdi BSIII': 1619, 'Vibe 1.5 dCi D4': 1620, 'Vibe 1.5 dCi D6': 1621, 'Vista Aqua 1.3 Quadrajet': 1622, 'Vista Aqua 1.3 Quadrajet BSIV': 1623, 'Vista Aqua 1.4 TDI': 1624, 'Vista Aqua TDI BSIII': 1625, 'Vista Aura 1.2 Safire (ABS) 90hp BS IV': 1626, 'Vista Aura 1.2 Safire (ABS) BS IV': 1627, 'Vista Aura 1.2 Safire BSIV': 1628, 'Vista Aura 1.3 Quadrajet (ABS)': 1629, 'Vista Aura 1.3 Quadrajet (ABS) BS IV': 1630, 'Vista Aura Plus 1.3 Quadrajet BS IV': 1631, 'Vista Aura Safire Anniversary Edition': 1632, 'Vista Quadrajet 90 VX': 1633, 'Vista Quadrajet LS': 1634, 'Vista Quadrajet VX': 1635, 'Vista Quadrajet VX Tech': 1636, 'Vista Quadrajet ZX': 1637, 'Vista Safire GLX': 1638, 'Vista TDI LS': 1639, 'Vista TDI LX': 1640, 'Vista Terra 1.4 TDI': 1641, 'Vista Terra Quadrajet 1.3L': 1642, 'Vista Terra Quadrajet 1.3L BS IV': 1643, 'Vista Terra TDI BSIII': 1644, 'Vxi': 1645, 'Vxi - BSIII': 1646, 'Vxi BSIII': 1647, 'Vxi BSIV': 1648, 'W10 1.99 mHawk': 1649, 'W10 2WD': 1650, 'W10 AWD': 1651, 'W11 AT BSIV': 1652, 'W11 BSIV': 1653, 'W11 Option AWD': 1654, 'W11 Option BSIV': 1655, 'W4': 1656, 'W4 (AT)': 1657, 'W4 1.99 mHawk': 1658, 'W5 BSIV': 1659, 'W6 2WD': 1660, 'W6 Diesel BSIV': 1661, 'W7': 1662, 'W7 BSIV': 1663, 'W8': 1664, 'W8 2WD': 1665, 'W8 4WD': 1666, 'W8 AWD': 1667, 'W8 Option BSIV': 1668, 'W8 Option Diesel BSIV': 1669, 'W8 Option Dual Tone Diesel BSIV': 1670, 'W9 2WD': 1671, 'W9 BSIV': 1672, 'Wizz 1.05 Revotorq': 1673, 'World Edition 110PS': 1674, 'X VXI': 1675, 'X VXI Option BSIV': 1676, 'X ZXI': 1677, 'X ZXI BSIV': 1678, 'X ZXI Option BSIV': 1679, 'XE': 1680, 'XE 85 PS': 1681, 'XL': 1682, 'XL 10 Seater Non AC': 1683, 'XL 110 PS': 1684, 'XL 85 PS': 1685, 'XL AT Special Edition': 1686, 'XL BSIV': 1687, 'XL D': 1688, 'XL D Option': 1689, 'XL Optional': 1690, 'XL Plus 85 PS': 1691, 'XM': 1692, 'XT': 1693, 'XT EX 4X2': 1694, 'XT EX 4X4': 1695, 'XTA': 1696, 'XV': 1697, 'XV 110 PS': 1698, 'XV BSIV': 1699, 'XV CVT': 1700, 'XV D': 1701, 'XV D BSIV': 1702, 'XV D Premium AMT': 1703, 'XV Premium 110 PS': 1704, 'XV Special Edition': 1705, 'XXi ABS (Petrol)': 1706, 'XZ': 1707, 'XZ BSIV': 1708, 'XZ Dark Edition BSIV': 1709, 'XZ Plus': 1710, 'Xi (Petrol)': 1711, 'Xing (Non-AC)': 1712, 'Xing GL': 1713, 'Xing GL LPG': 1714, 'Xing GL Plus': 1715, 'Xing GL Plus LPG': 1716, 'Xing GLS': 1717, 'Xing GLS CNG': 1718, 'Xing GLS LPG': 1719, 'Xing XK eRLX Euro II': 1720, 'Xing XK eRLX EuroIII': 1721, 'Xing XS': 1722, 'ZDI': 1723, 'ZDI BSIV': 1724, 'ZDI Leather': 1725, 'ZDI Plus': 1726, 'ZDi': 1727, 'ZDi Plus': 1728, 'ZDi Plus SHVS': 1729, 'ZLX BSIII': 1730, 'ZX': 1731, 'ZX Diesel BSIV': 1732, 'ZXI': 1733, 'ZXI 2018': 1734, 'ZXI ABS': 1735, 'ZXI AMT BSIV': 1736, 'ZXI AT': 1737, 'ZXI AT Leather': 1738, 'ZXI BSIII': 1739, 'ZXI BSIV': 1740, 'ZXI MT BSIV': 1741, 'ZXI MT BSIV Leather': 1742, 'ZXI Optional': 1743, 'ZXI Optional AMT BSIV': 1744, 'ZXI Optional MT BSIV': 1745, 'ZXI Plus': 1746, 'ZXI Plus Petrol': 1747, 'ZXi': 1748, 'ZXi AT': 1749, 'ZXi Plus': 1750, 'Zeta': 1751, 'Zeta 1.2': 1752, 'Zeta 1.3': 1753, 'Zeta AMT': 1754, 'Zeta Automatic': 1755, 'Zeta Diesel': 1756, 'Zxi': 1757, 'Zxi BSIII': 1758, 'Zxi with Leather BSIII': 1759, 'eCS GLS': 1760, 'eCS GLX': 1761, 'eCS LE TDI BSIII': 1762, 'eCS LS TDI BSIII': 1763, 'eCS LX BSIV': 1764, 'eCS LX TDI BSIII': 1765, 'eCS VX BSIV': 1766, 'i DTEC E': 1767, 'i DTEC S': 1768, 'i DTEC SV': 1769, 'i DTEC V': 1770, 'i DTEC VX': 1771, 'i DTEC VX Option': 1772, 'i DTec E': 1773, 'i DTec S': 1774, 'i DTec SV': 1775, 'i DTec V': 1776, 'i DTec VX': 1777, 'i VTEC CVT SV': 1778, 'i VTEC CVT VX': 1779, 'i VTEC E': 1780, 'i VTEC S': 1781, 'i VTEC SV': 1782, 'i VTEC V': 1783, 'i VTEC VX': 1784, 'i VTEC VX Option': 1785, 'i VTEC VX Option BL': 1786, 'i-DTEC S': 1787, 'i-DTEC S MT': 1788, 'i-DTEC V': 1789, 'i-DTEC V MT': 1790, 'i-DTEC VX': 1791, 'i-DTEC VX MT': 1792, 'i-DTEC ZX': 1793, 'i-VTEC CVT V': 1794, 'i-VTEC CVT VX': 1795, 'i-VTEC CVT ZX': 1796, 'i-VTEC E MT': 1797, 'i-VTEC Privilege Edition': 1798, 'i-VTEC S': 1799, 'i-VTEC S MT': 1800, 'i-VTEC V': 1801, 'i-VTEC V CVT': 1802, 'i-VTEC V MT': 1803, 'i-VTEC VX': 1804, 'i-VTEC VX MT': 1805, 'i10 1.2 CRDi Asta': 1806, 'i10 1.2 CRDi Magna': 1807, 'i10 1.2 CRDi Sportz': 1808, 'i10 1.2 CRDi Sportz Option': 1809, 'i10 1.2 Kappa Asta': 1810, 'i10 1.2 Kappa Era': 1811, 'i10 1.2 Kappa Magna AT': 1812, 'i10 1.2 Kappa Magna BSIV': 1813, 'i10 1.2 Kappa Sportz AT': 1814, 'i10 1.2 Kappa Sportz BSIV': 1815, 'i10 1.2 Kappa Sportz Dual Tone': 1816, 'i10 1.2 Kappa Sportz Option': 1817, 'i10 AT Asta': 1818, 'i10 AT Sportz': 1819, 'i10 Asta': 1820, 'i10 Asta Option': 1821, 'i10 CRDi Asta': 1822, 'i10 CRDi Asta Option': 1823, 'i10 CRDi Magna': 1824, 'i10 CRDi SportZ Edition': 1825, 'i10 CRDi Sportz': 1826, 'i10 Magna': 1827, 'i10 Magna AT': 1828, 'i10 Nios AMT Sportz': 1829, 'i10 Nios Sportz': 1830, 'i10 SportZ Edition': 1831, 'i10 Sportz': 1832, 'i10 Sportz Celebration Edition': 1833, 'i20 Asta Option BSIV': 1834, 'i20 Asta Option CVT BSIV': 1835, 'i20 Asta Option Diesel': 1836, 'i20 Diesel Sportz': 1837, 'i20 Magna Plus BSIV': 1838, 'i20 Petrol Asta': 1839, 'i20 Petrol Asta Option': 1840, 'i20 Petrol CVT Magna Executive': 1841, 'i20 Petrol Magna Exective': 1842, 'i20 Petrol Sportz': 1843, 'i20 Sportz Plus BSIV': 1844, 'i20 Sportz Plus CVT BSIV': 1845, 'i20 Sportz Plus Diesel': 1846, 'i20 Sportz Plus Dual Tone BSIV': 1847, 'sDrive 20d Sportline': 1848, 'sDrive20d': 1849, 'sDrive20d M Sport': 1850, 'sDrive20i xLine': 1851, 'xDrive 30d DPE': 1852, 'xDrive20d': 1853, 'xDrive30d': 1854}\n",
      "{'Dealer': 0, 'Individual': 1, 'Trustmark Dealer': 2}\n",
      "{'Automatic': 0, 'Manual': 1}\n",
      "{'CNG': 0, 'Diesel': 1, 'LPG': 2, 'Petrol': 3}\n",
      "{'First Owner': 0, 'Fourth & Above Owner': 1, 'Second Owner': 2, 'Test Drive Car': 3, 'Third Owner': 4}\n",
      "{'0 km - 10000 km': 0, '10000 km - 20000 km': 1, '100000 km - 110000 km': 2, '110000 km - 120000 km': 3, '120000 km - 130000 km': 4, '130000 km - 140000 km': 5, '140000 km - 150000 km': 6, '1490000 km - 1500000 km': 7, '150000 km - 160000 km': 8, '160000 km - 170000 km': 9, '170000 km - 180000 km': 10, '180000 km - 190000 km': 11, '190000 km - 200000 km': 12, '20000 km - 30000 km': 13, '200000 km - 210000 km': 14, '210000 km - 220000 km': 15, '220000 km - 230000 km': 16, '230000 km - 240000 km': 17, '240000 km - 250000 km': 18, '250000 km - 260000 km': 19, '260000 km - 270000 km': 20, '270000 km - 280000 km': 21, '280000 km - 290000 km': 22, '290000 km - 300000 km': 23, '30000 km - 40000 km': 24, '300000 km - 310000 km': 25, '310000 km - 320000 km': 26, '320000 km - 330000 km': 27, '330000 km - 340000 km': 28, '360000 km - 370000 km': 29, '370000 km - 380000 km': 30, '40000 km - 50000 km': 31, '420000 km - 430000 km': 32, '430000 km - 440000 km': 33, '470000 km - 480000 km': 34, '490000 km - 500000 km': 35, '50000 km - 60000 km': 36, '570000 km - 580000 km': 37, '60000 km - 70000 km': 38, '70000 km - 80000 km': 39, '80000 km - 90000 km': 40, '90000 km - 100000 km': 41, nan: 42}\n",
      "{'1000 cc - 1100 cc': 0, '1100 cc - 1200 cc': 1, '1200 cc - 1300 cc': 2, '1300 cc - 1400 cc': 3, '1400 cc - 1500 cc': 4, '1500 cc - 1600 cc': 5, '1700 cc - 1800 cc': 6, '1800 cc - 1900 cc': 7, '1900 cc - 2000 cc': 8, '2000 cc - 2100 cc': 9, '2100 cc - 2200 cc': 10, '2200 cc - 2300 cc': 11, '2300 cc - 2400 cc': 12, '2400 cc - 2500 cc': 13, '2500 cc - 2600 cc': 14, '2600 cc - 2700 cc': 15, '2700 cc - 2800 cc': 16, '2800 cc - 2900 cc': 17, '600 cc - 700 cc': 18, '700 cc - 800 cc': 19, '800 cc - 900 cc': 20, '900 cc - 1000 cc': 21, nan: 22}\n",
      "{'10 kmpl - 15 kmpl': 0, '15 kmpl - 20 kmpl': 1, '20 kmpl - 25 kmpl': 2, '25 kmpl - 30 kmpl': 3, '30 kmpl - 35 kmpl': 4, '5 kmpl - 10 kmpl': 5, nan: 6}\n",
      "{'100 bhp - 120 bhp': 0, '120 bhp - 140 bhp': 1, '140 bhp - 160 bhp': 2, '160 bhp - 180 bhp': 3, '180 bhp - 200 bhp': 4, '20 bhp - 40 bhp': 5, '200 bhp - 220 bhp': 6, '220 bhp - 240 bhp': 7, '240 bhp - 260 bhp': 8, '260 bhp - 280 bhp': 9, '280 bhp - 300 bhp': 10, '40 bhp - 60 bhp': 11, '60 bhp - 80 bhp': 12, '80 bhp - 100 bhp': 13, nan: 14}\n"
     ]
    },
    {
     "data": {
      "text/html": [
       "<div>\n",
       "<style scoped>\n",
       "    .dataframe tbody tr th:only-of-type {\n",
       "        vertical-align: middle;\n",
       "    }\n",
       "\n",
       "    .dataframe tbody tr th {\n",
       "        vertical-align: top;\n",
       "    }\n",
       "\n",
       "    .dataframe thead th {\n",
       "        text-align: right;\n",
       "    }\n",
       "</style>\n",
       "<table border=\"1\" class=\"dataframe\">\n",
       "  <thead>\n",
       "    <tr style=\"text-align: right;\">\n",
       "      <th></th>\n",
       "      <th>name</th>\n",
       "      <th>year</th>\n",
       "      <th>selling_price</th>\n",
       "      <th>km_driven</th>\n",
       "      <th>fuel</th>\n",
       "      <th>seller_type</th>\n",
       "      <th>transmission</th>\n",
       "      <th>owner</th>\n",
       "      <th>mileage_kmpl</th>\n",
       "      <th>engine_cc</th>\n",
       "      <th>max_power_bhp</th>\n",
       "      <th>seats</th>\n",
       "      <th>brand</th>\n",
       "      <th>model</th>\n",
       "      <th>model_variants</th>\n",
       "      <th>km_driven_bin</th>\n",
       "      <th>engine_bin</th>\n",
       "      <th>mileage_bin</th>\n",
       "      <th>max_power_bin</th>\n",
       "    </tr>\n",
       "  </thead>\n",
       "  <tbody>\n",
       "    <tr>\n",
       "      <th>0</th>\n",
       "      <td>Maruti Swift Dzire VDI</td>\n",
       "      <td>2014</td>\n",
       "      <td>450000</td>\n",
       "      <td>145500</td>\n",
       "      <td>1</td>\n",
       "      <td>1</td>\n",
       "      <td>1</td>\n",
       "      <td>0</td>\n",
       "      <td>23.40</td>\n",
       "      <td>1248</td>\n",
       "      <td>74.00</td>\n",
       "      <td>5.0</td>\n",
       "      <td>20</td>\n",
       "      <td>152</td>\n",
       "      <td>940</td>\n",
       "      <td>6</td>\n",
       "      <td>2</td>\n",
       "      <td>2</td>\n",
       "      <td>12</td>\n",
       "    </tr>\n",
       "    <tr>\n",
       "      <th>1</th>\n",
       "      <td>Skoda Rapid 1.5 TDI Ambition</td>\n",
       "      <td>2014</td>\n",
       "      <td>370000</td>\n",
       "      <td>120000</td>\n",
       "      <td>1</td>\n",
       "      <td>1</td>\n",
       "      <td>1</td>\n",
       "      <td>2</td>\n",
       "      <td>21.14</td>\n",
       "      <td>1498</td>\n",
       "      <td>103.52</td>\n",
       "      <td>5.0</td>\n",
       "      <td>26</td>\n",
       "      <td>126</td>\n",
       "      <td>232</td>\n",
       "      <td>3</td>\n",
       "      <td>4</td>\n",
       "      <td>2</td>\n",
       "      <td>0</td>\n",
       "    </tr>\n",
       "    <tr>\n",
       "      <th>2</th>\n",
       "      <td>Honda City 2017-2020 EXi</td>\n",
       "      <td>2006</td>\n",
       "      <td>158000</td>\n",
       "      <td>140000</td>\n",
       "      <td>3</td>\n",
       "      <td>1</td>\n",
       "      <td>1</td>\n",
       "      <td>4</td>\n",
       "      <td>17.70</td>\n",
       "      <td>1497</td>\n",
       "      <td>78.00</td>\n",
       "      <td>5.0</td>\n",
       "      <td>10</td>\n",
       "      <td>35</td>\n",
       "      <td>524</td>\n",
       "      <td>5</td>\n",
       "      <td>4</td>\n",
       "      <td>1</td>\n",
       "      <td>12</td>\n",
       "    </tr>\n",
       "    <tr>\n",
       "      <th>3</th>\n",
       "      <td>Hyundai i20 Sportz Diesel</td>\n",
       "      <td>2010</td>\n",
       "      <td>225000</td>\n",
       "      <td>127000</td>\n",
       "      <td>1</td>\n",
       "      <td>1</td>\n",
       "      <td>1</td>\n",
       "      <td>0</td>\n",
       "      <td>23.00</td>\n",
       "      <td>1396</td>\n",
       "      <td>90.00</td>\n",
       "      <td>5.0</td>\n",
       "      <td>11</td>\n",
       "      <td>196</td>\n",
       "      <td>1463</td>\n",
       "      <td>4</td>\n",
       "      <td>3</td>\n",
       "      <td>2</td>\n",
       "      <td>13</td>\n",
       "    </tr>\n",
       "    <tr>\n",
       "      <th>4</th>\n",
       "      <td>Maruti Swift VXI BSIII</td>\n",
       "      <td>2007</td>\n",
       "      <td>130000</td>\n",
       "      <td>120000</td>\n",
       "      <td>3</td>\n",
       "      <td>1</td>\n",
       "      <td>1</td>\n",
       "      <td>0</td>\n",
       "      <td>16.10</td>\n",
       "      <td>1298</td>\n",
       "      <td>88.20</td>\n",
       "      <td>5.0</td>\n",
       "      <td>20</td>\n",
       "      <td>152</td>\n",
       "      <td>1602</td>\n",
       "      <td>3</td>\n",
       "      <td>2</td>\n",
       "      <td>1</td>\n",
       "      <td>13</td>\n",
       "    </tr>\n",
       "  </tbody>\n",
       "</table>\n",
       "</div>"
      ],
      "text/plain": [
       "                           name  year  selling_price  km_driven  fuel   \n",
       "0        Maruti Swift Dzire VDI  2014         450000     145500     1  \\\n",
       "1  Skoda Rapid 1.5 TDI Ambition  2014         370000     120000     1   \n",
       "2      Honda City 2017-2020 EXi  2006         158000     140000     3   \n",
       "3     Hyundai i20 Sportz Diesel  2010         225000     127000     1   \n",
       "4        Maruti Swift VXI BSIII  2007         130000     120000     3   \n",
       "\n",
       "   seller_type  transmission  owner  mileage_kmpl  engine_cc  max_power_bhp   \n",
       "0            1             1      0         23.40       1248          74.00  \\\n",
       "1            1             1      2         21.14       1498         103.52   \n",
       "2            1             1      4         17.70       1497          78.00   \n",
       "3            1             1      0         23.00       1396          90.00   \n",
       "4            1             1      0         16.10       1298          88.20   \n",
       "\n",
       "   seats  brand  model  model_variants  km_driven_bin  engine_bin   \n",
       "0    5.0     20    152             940              6           2  \\\n",
       "1    5.0     26    126             232              3           4   \n",
       "2    5.0     10     35             524              5           4   \n",
       "3    5.0     11    196            1463              4           3   \n",
       "4    5.0     20    152            1602              3           2   \n",
       "\n",
       "   mileage_bin  max_power_bin  \n",
       "0            2             12  \n",
       "1            2              0  \n",
       "2            1             12  \n",
       "3            2             13  \n",
       "4            1             13  "
      ]
     },
     "execution_count": 8,
     "metadata": {},
     "output_type": "execute_result"
    }
   ],
   "source": [
    "mappings = list()\n",
    "\n",
    "for col in columns:\n",
    "    encoded_labels = lEnc.fit_transform(cars_df[col])\n",
    "    cars_df[col] = encoded_labels\n",
    "    mappings.append(dict(zip(lEnc.classes_, range(len(lEnc.classes_)))))\n",
    "\n",
    "for map_item in mappings: \n",
    "    print(map_item)\n",
    "\n",
    "cars_df.head()\n",
    "#cars_df.info()"
   ]
  },
  {
   "cell_type": "markdown",
   "metadata": {},
   "source": []
  },
  {
   "cell_type": "code",
   "execution_count": 35,
   "metadata": {},
   "outputs": [
    {
     "data": {
      "text/html": [
       "<div>\n",
       "<style scoped>\n",
       "    .dataframe tbody tr th:only-of-type {\n",
       "        vertical-align: middle;\n",
       "    }\n",
       "\n",
       "    .dataframe tbody tr th {\n",
       "        vertical-align: top;\n",
       "    }\n",
       "\n",
       "    .dataframe thead th {\n",
       "        text-align: right;\n",
       "    }\n",
       "</style>\n",
       "<table border=\"1\" class=\"dataframe\">\n",
       "  <thead>\n",
       "    <tr style=\"text-align: right;\">\n",
       "      <th></th>\n",
       "      <th>name</th>\n",
       "      <th>year</th>\n",
       "      <th>selling_price</th>\n",
       "      <th>km_driven</th>\n",
       "      <th>fuel</th>\n",
       "      <th>seller_type</th>\n",
       "      <th>transmission</th>\n",
       "      <th>owner</th>\n",
       "      <th>mileage_kmpl</th>\n",
       "      <th>engine_cc</th>\n",
       "      <th>max_power_bhp</th>\n",
       "      <th>seats</th>\n",
       "      <th>brand</th>\n",
       "      <th>model</th>\n",
       "      <th>model_variants</th>\n",
       "      <th>km_driven_bin</th>\n",
       "      <th>engine_bin</th>\n",
       "      <th>mileage_bin</th>\n",
       "      <th>max_power_bin</th>\n",
       "    </tr>\n",
       "  </thead>\n",
       "  <tbody>\n",
       "    <tr>\n",
       "      <th>2047</th>\n",
       "      <td>Audi A3 35 TDI Premium Plus</td>\n",
       "      <td>2017</td>\n",
       "      <td>2600000</td>\n",
       "      <td>70000</td>\n",
       "      <td>1</td>\n",
       "      <td>1</td>\n",
       "      <td>0</td>\n",
       "      <td>0</td>\n",
       "      <td>20.38</td>\n",
       "      <td>1968</td>\n",
       "      <td>143.0</td>\n",
       "      <td>5.0</td>\n",
       "      <td>2</td>\n",
       "      <td>6</td>\n",
       "      <td>559</td>\n",
       "      <td>38</td>\n",
       "      <td>8</td>\n",
       "      <td>2</td>\n",
       "      <td>2</td>\n",
       "    </tr>\n",
       "    <tr>\n",
       "      <th>7838</th>\n",
       "      <td>Audi A3 40 TFSI Premium</td>\n",
       "      <td>2017</td>\n",
       "      <td>1689999</td>\n",
       "      <td>8000</td>\n",
       "      <td>3</td>\n",
       "      <td>0</td>\n",
       "      <td>0</td>\n",
       "      <td>0</td>\n",
       "      <td>16.60</td>\n",
       "      <td>1798</td>\n",
       "      <td>177.5</td>\n",
       "      <td>5.0</td>\n",
       "      <td>2</td>\n",
       "      <td>6</td>\n",
       "      <td>567</td>\n",
       "      <td>0</td>\n",
       "      <td>6</td>\n",
       "      <td>1</td>\n",
       "      <td>3</td>\n",
       "    </tr>\n",
       "  </tbody>\n",
       "</table>\n",
       "</div>"
      ],
      "text/plain": [
       "                             name  year  selling_price  km_driven  fuel   \n",
       "2047  Audi A3 35 TDI Premium Plus  2017        2600000      70000     1  \\\n",
       "7838      Audi A3 40 TFSI Premium  2017        1689999       8000     3   \n",
       "\n",
       "      seller_type  transmission  owner  mileage_kmpl  engine_cc   \n",
       "2047            1             0      0         20.38       1968  \\\n",
       "7838            0             0      0         16.60       1798   \n",
       "\n",
       "      max_power_bhp  seats  brand  model  model_variants  km_driven_bin   \n",
       "2047          143.0    5.0      2      6             559             38  \\\n",
       "7838          177.5    5.0      2      6             567              0   \n",
       "\n",
       "      engine_bin  mileage_bin  max_power_bin  \n",
       "2047           8            2              2  \n",
       "7838           6            1              3  "
      ]
     },
     "execution_count": 35,
     "metadata": {},
     "output_type": "execute_result"
    }
   ],
   "source": [
    "cars_df.query(\"brand == 2 and model == 6 and year == 2017\")"
   ]
  },
  {
   "cell_type": "code",
   "execution_count": 38,
   "metadata": {},
   "outputs": [
    {
     "data": {
      "text/html": [
       "<div>\n",
       "<style scoped>\n",
       "    .dataframe tbody tr th:only-of-type {\n",
       "        vertical-align: middle;\n",
       "    }\n",
       "\n",
       "    .dataframe tbody tr th {\n",
       "        vertical-align: top;\n",
       "    }\n",
       "\n",
       "    .dataframe thead th {\n",
       "        text-align: right;\n",
       "    }\n",
       "</style>\n",
       "<table border=\"1\" class=\"dataframe\">\n",
       "  <thead>\n",
       "    <tr style=\"text-align: right;\">\n",
       "      <th></th>\n",
       "      <th>name</th>\n",
       "      <th>year</th>\n",
       "      <th>selling_price</th>\n",
       "      <th>km_driven</th>\n",
       "      <th>fuel</th>\n",
       "      <th>seller_type</th>\n",
       "      <th>transmission</th>\n",
       "      <th>owner</th>\n",
       "      <th>mileage_kmpl</th>\n",
       "      <th>engine_cc</th>\n",
       "      <th>max_power_bhp</th>\n",
       "      <th>seats</th>\n",
       "      <th>brand</th>\n",
       "      <th>model</th>\n",
       "      <th>model_variants</th>\n",
       "      <th>km_driven_bin</th>\n",
       "      <th>engine_bin</th>\n",
       "      <th>mileage_bin</th>\n",
       "      <th>max_power_bin</th>\n",
       "    </tr>\n",
       "  </thead>\n",
       "  <tbody>\n",
       "  </tbody>\n",
       "</table>\n",
       "</div>"
      ],
      "text/plain": [
       "Empty DataFrame\n",
       "Columns: [name, year, selling_price, km_driven, fuel, seller_type, transmission, owner, mileage_kmpl, engine_cc, max_power_bhp, seats, brand, model, model_variants, km_driven_bin, engine_bin, mileage_bin, max_power_bin]\n",
       "Index: []"
      ]
     },
     "execution_count": 38,
     "metadata": {},
     "output_type": "execute_result"
    }
   ],
   "source": [
    "data = cars_df.query(\"brand == 'Audi' and model == 'A3'\")\n",
    "data"
   ]
  },
  {
   "cell_type": "markdown",
   "metadata": {},
   "source": [
    "#Preparetion data splitted into test and train data subsets and applied to regression algorithms."
   ]
  },
  {
   "cell_type": "markdown",
   "metadata": {},
   "source": [
    "#Splitting the data:#\n",
    "\n",
    "We use the train_test_split function to split the features (X) and the target variable (Y) into training and testing sets. \n",
    "The test_size parameter specifies the proportion of the dataset to include in the testing set, which is set to 0.3 (30%). \n",
    "The random_state parameter ensures reproducibility of the split."
   ]
  },
  {
   "cell_type": "code",
   "execution_count": 21,
   "metadata": {},
   "outputs": [
    {
     "name": "stdout",
     "output_type": "stream",
     "text": [
      "<class 'pandas.core.frame.DataFrame'>\n",
      "RangeIndex: 7906 entries, 0 to 7905\n",
      "Data columns (total 13 columns):\n",
      " #   Column          Non-Null Count  Dtype  \n",
      "---  ------          --------------  -----  \n",
      " 0   year            7906 non-null   int64  \n",
      " 1   fuel            7906 non-null   int64  \n",
      " 2   seller_type     7906 non-null   int64  \n",
      " 3   transmission    7906 non-null   int64  \n",
      " 4   owner           7906 non-null   int64  \n",
      " 5   seats           7906 non-null   float64\n",
      " 6   brand           7906 non-null   int64  \n",
      " 7   model           7906 non-null   int64  \n",
      " 8   model_variants  7906 non-null   int64  \n",
      " 9   km_driven_bin   7906 non-null   int64  \n",
      " 10  engine_bin      7906 non-null   int64  \n",
      " 11  mileage_bin     7906 non-null   int64  \n",
      " 12  max_power_bin   7906 non-null   int64  \n",
      "dtypes: float64(1), int64(12)\n",
      "memory usage: 803.1 KB\n"
     ]
    }
   ],
   "source": [
    "from sklearn.model_selection import train_test_split\n",
    "\n",
    "X = cars_df.drop(['name','selling_price', 'km_driven', 'engine_cc', 'mileage_kmpl', 'max_power_bhp'], axis=1)\n",
    "Y = cars_df['selling_price']\n",
    "X_train, X_test, Y_train, Y_test = train_test_split(X, Y, test_size=0.3, random_state=101)\n",
    "\n",
    "X.info()"
   ]
  },
  {
   "cell_type": "code",
   "execution_count": 22,
   "metadata": {},
   "outputs": [
    {
     "name": "stdout",
     "output_type": "stream",
     "text": [
      "Index(['year', 'fuel', 'seller_type', 'transmission', 'owner', 'seats',\n",
      "       'brand', 'model', 'model_variants', 'km_driven_bin', 'engine_bin',\n",
      "       'mileage_bin', 'max_power_bin'],\n",
      "      dtype='object')\n"
     ]
    }
   ],
   "source": [
    "print(X_train.columns)"
   ]
  },
  {
   "cell_type": "code",
   "execution_count": 15,
   "metadata": {},
   "outputs": [
    {
     "data": {
      "text/html": [
       "<div>\n",
       "<style scoped>\n",
       "    .dataframe tbody tr th:only-of-type {\n",
       "        vertical-align: middle;\n",
       "    }\n",
       "\n",
       "    .dataframe tbody tr th {\n",
       "        vertical-align: top;\n",
       "    }\n",
       "\n",
       "    .dataframe thead th {\n",
       "        text-align: right;\n",
       "    }\n",
       "</style>\n",
       "<table border=\"1\" class=\"dataframe\">\n",
       "  <thead>\n",
       "    <tr style=\"text-align: right;\">\n",
       "      <th></th>\n",
       "      <th>year</th>\n",
       "      <th>fuel</th>\n",
       "      <th>seller_type</th>\n",
       "      <th>transmission</th>\n",
       "      <th>owner</th>\n",
       "      <th>seats</th>\n",
       "      <th>brand</th>\n",
       "      <th>model</th>\n",
       "      <th>model_variants</th>\n",
       "      <th>km_driven_bin</th>\n",
       "      <th>engine_bin</th>\n",
       "      <th>mileage_bin</th>\n",
       "      <th>max_power_bin</th>\n",
       "    </tr>\n",
       "  </thead>\n",
       "  <tbody>\n",
       "    <tr>\n",
       "      <th>2047</th>\n",
       "      <td>2017</td>\n",
       "      <td>1</td>\n",
       "      <td>1</td>\n",
       "      <td>0</td>\n",
       "      <td>0</td>\n",
       "      <td>5.0</td>\n",
       "      <td>2</td>\n",
       "      <td>6</td>\n",
       "      <td>559</td>\n",
       "      <td>38</td>\n",
       "      <td>8</td>\n",
       "      <td>2</td>\n",
       "      <td>2</td>\n",
       "    </tr>\n",
       "    <tr>\n",
       "      <th>7838</th>\n",
       "      <td>2017</td>\n",
       "      <td>3</td>\n",
       "      <td>0</td>\n",
       "      <td>0</td>\n",
       "      <td>0</td>\n",
       "      <td>5.0</td>\n",
       "      <td>2</td>\n",
       "      <td>6</td>\n",
       "      <td>567</td>\n",
       "      <td>0</td>\n",
       "      <td>6</td>\n",
       "      <td>1</td>\n",
       "      <td>3</td>\n",
       "    </tr>\n",
       "  </tbody>\n",
       "</table>\n",
       "</div>"
      ],
      "text/plain": [
       "      year  fuel  seller_type  transmission  owner  seats  brand  model   \n",
       "2047  2017     1            1             0      0    5.0      2      6  \\\n",
       "7838  2017     3            0             0      0    5.0      2      6   \n",
       "\n",
       "      model_variants  km_driven_bin  engine_bin  mileage_bin  max_power_bin  \n",
       "2047             559             38           8            2              2  \n",
       "7838             567              0           6            1              3  "
      ]
     },
     "execution_count": 15,
     "metadata": {},
     "output_type": "execute_result"
    }
   ],
   "source": [
    "X_train.query(\"brand == 2 and model == 6\")"
   ]
  },
  {
   "cell_type": "markdown",
   "metadata": {},
   "source": [
    "We trained 4 machine learning models, Linear Regression, Lasso Regression, RandomForest Regression,  on the training data and evaluated their performance on both training and testing sets."
   ]
  },
  {
   "cell_type": "markdown",
   "metadata": {},
   "source": [
    "We’ll train a Linear Regression model on the training data to predict car prices."
   ]
  },
  {
   "cell_type": "code",
   "execution_count": 23,
   "metadata": {},
   "outputs": [
    {
     "name": "stdout",
     "output_type": "stream",
     "text": [
      "R squared Error LinearRegression :  0.5389534972021834\n"
     ]
    }
   ],
   "source": [
    "from sklearn.linear_model import LinearRegression\n",
    "from sklearn.metrics import r2_score\n",
    "\n",
    "# Loading the Linear Regression model\n",
    "lRegModel = LinearRegression()\n",
    "\n",
    "lRegModel.fit(X_train, Y_train)\n",
    "\n",
    "#Model Evaluation (evaluate the performance of the trained Linear Regression model)\n",
    "lrPredicts = lRegModel.predict(X_test)\n",
    "\n",
    "# Calculating the R squared error\n",
    "# R squared is a statistical measure of how well the regression predictions approximate the actual data points. \n",
    "# It ranges from 0 to 1, where a value closer to 1 indicates a better fit.\n",
    "errorScoreLR = r2_score(Y_test, lrPredicts)\n",
    "print(\"R squared Error LinearRegression : \", errorScoreLR)\n",
    "\n",
    "#The calculated R squared error for the training data is approximately 0.7155"
   ]
  },
  {
   "cell_type": "markdown",
   "metadata": {},
   "source": [
    "#Model Training: Lasso Regression\n",
    "\n",
    "In statistics and machine learning, lasso (least absolute shrinkage and selection operator; also Lasso or LASSO) is a regression analysis method that performs both variable selection \n",
    "and regularization in order to enhance the prediction accuracy and interpretability of the resulting statistical model. \n",
    "The lasso method assumes that the coefficients of the linear model are sparse, meaning that few of them are non-zero."
   ]
  },
  {
   "cell_type": "code",
   "execution_count": 24,
   "metadata": {},
   "outputs": [
    {
     "name": "stdout",
     "output_type": "stream",
     "text": [
      "R squared Error Lasso  0.5445509480658584\n"
     ]
    }
   ],
   "source": [
    "from sklearn.linear_model import Lasso\n",
    "\n",
    "lassoModel = Lasso()\n",
    "\n",
    "# Fitting the model to the training data\n",
    "lassoModel.fit(X_train, Y_train)\n",
    "\n",
    "# Prediction on training data\n",
    "training_data_prediction = lassoModel.predict(X_train)\n",
    "\n",
    "errorScoreLasso = r2_score(Y_train, training_data_prediction)\n",
    "print(\"R squared Error Lasso \", errorScoreLasso)"
   ]
  },
  {
   "cell_type": "code",
   "execution_count": 25,
   "metadata": {},
   "outputs": [
    {
     "name": "stdout",
     "output_type": "stream",
     "text": [
      "R squared Error Lasso:  0.538953825186441\n"
     ]
    }
   ],
   "source": [
    "# Prediction on testing data\n",
    "lassoPredicts = lassoModel.predict(X_test)\n",
    "# Calculating the R squared error for testing data\n",
    "errorScoreLassoTest = r2_score(Y_test, lassoPredicts)\n",
    "print(\"R squared Error Lasso: \", errorScoreLassoTest)"
   ]
  },
  {
   "cell_type": "markdown",
   "metadata": {},
   "source": [
    "#### Model Training: RandomForest Regression\n",
    "\n",
    "The next method to build prediction models is Random forest regression method and can be used in sklearn.ensemble library with RandomForestRegressor indicator."
   ]
  },
  {
   "cell_type": "code",
   "execution_count": 26,
   "metadata": {},
   "outputs": [
    {
     "name": "stdout",
     "output_type": "stream",
     "text": [
      "R2-Score RFR  0.9761649024406551\n",
      "Error square RFR  121711.64186831116\n"
     ]
    }
   ],
   "source": [
    "from sklearn.ensemble import RandomForestRegressor\n",
    "from sklearn.metrics import mean_squared_error, r2_score\n",
    "\n",
    "rfr = RandomForestRegressor()\n",
    "rfr.fit(X_train, Y_train)\n",
    "rfrPredicts = rfr.predict(X_test)\n",
    "\n",
    "rfrScore = r2_score(Y_test, rfrPredicts)\n",
    "rfrError = np.sqrt(mean_squared_error(Y_test, rfrPredicts))\n",
    "print('R2-Score RFR ', rfrScore)\n",
    "print('Error square RFR ', rfrError)\n",
    "# The coefficients"
   ]
  },
  {
   "cell_type": "code",
   "execution_count": 27,
   "metadata": {},
   "outputs": [
    {
     "name": "stdout",
     "output_type": "stream",
     "text": [
      "MAE: 64925.28733719325\n",
      "MSE: 14813723766.280031\n",
      "RMSE: 121711.64186831116\n"
     ]
    }
   ],
   "source": [
    "from sklearn import metrics\n",
    "\n",
    "print('MAE:', metrics.mean_absolute_error(Y_test, rfrPredicts))\n",
    "print('MSE:', metrics.mean_squared_error(Y_test, rfrPredicts))\n",
    "print('RMSE:', np.sqrt(metrics.mean_squared_error(Y_test, rfrPredicts)))"
   ]
  },
  {
   "cell_type": "markdown",
   "metadata": {},
   "source": [
    "#### Extra gradient boosting algorithm\n",
    "\n",
    "which is one of the most used algorithms in numerical value estimation models is used. Xgboost has the implementation of this very popular algorithm and It is used in car price prediction modelling.\n",
    "\n",
    "Machine learning algorithms that is useful for conducting classification and prediction problems."
   ]
  },
  {
   "cell_type": "code",
   "execution_count": 28,
   "metadata": {},
   "outputs": [
    {
     "name": "stdout",
     "output_type": "stream",
     "text": [
      "R squared Error Lasso:  0.538953825186441\n",
      "R squared Error LinearRegression :  0.5389534972021834\n",
      "R2-Score RFR  0.9761649024406551\n",
      "Error square RFR  121711.64186831116\n",
      "R2-Score XGB  0.9754013560314756\n",
      "Error square XGB  123645.76259266339\n"
     ]
    }
   ],
   "source": [
    "from xgboost import XGBRegressor\n",
    "\n",
    "xgb = XGBRegressor()\n",
    "xgb.fit(X_train, Y_train)\n",
    "xgbPredicts = xgb.predict(X_test)\n",
    "xgbScore = r2_score(Y_test, xgbPredicts)\n",
    "xgbError = np.sqrt(mean_squared_error(Y_test, xgbPredicts))\n",
    "\n",
    "print(\"R squared Error Lasso: \", errorScoreLassoTest)\n",
    "print(\"R squared Error LinearRegression : \", errorScoreLR)\n",
    "print('R2-Score RFR ', rfrScore)\n",
    "print('Error square RFR ', rfrError)\n",
    "print('R2-Score XGB ', xgbScore)\n",
    "print('Error square XGB ', xgbError)\n"
   ]
  },
  {
   "cell_type": "markdown",
   "metadata": {},
   "source": [
    "BaggingRegressor "
   ]
  },
  {
   "cell_type": "code",
   "execution_count": null,
   "metadata": {},
   "outputs": [],
   "source": [
    "from sklearn.ensemble import BaggingRegressor\n",
    "\n",
    "\n",
    "bagging = BaggingRegressor()\n",
    "bagging.fit(X_train, Y_train)\n",
    "acc_model(11, bagging, train,test)"
   ]
  },
  {
   "cell_type": "code",
   "execution_count": 29,
   "metadata": {},
   "outputs": [
    {
     "data": {
      "text/html": [
       "<div>\n",
       "<style scoped>\n",
       "    .dataframe tbody tr th:only-of-type {\n",
       "        vertical-align: middle;\n",
       "    }\n",
       "\n",
       "    .dataframe tbody tr th {\n",
       "        vertical-align: top;\n",
       "    }\n",
       "\n",
       "    .dataframe thead th {\n",
       "        text-align: right;\n",
       "    }\n",
       "</style>\n",
       "<table border=\"1\" class=\"dataframe\">\n",
       "  <thead>\n",
       "    <tr style=\"text-align: right;\">\n",
       "      <th></th>\n",
       "      <th>year</th>\n",
       "      <th>fuel</th>\n",
       "      <th>seller_type</th>\n",
       "      <th>transmission</th>\n",
       "      <th>owner</th>\n",
       "      <th>seats</th>\n",
       "      <th>brand</th>\n",
       "      <th>model</th>\n",
       "      <th>model_variants</th>\n",
       "      <th>km_driven_bin</th>\n",
       "      <th>engine_bin</th>\n",
       "      <th>mileage_bin</th>\n",
       "      <th>max_power_bin</th>\n",
       "    </tr>\n",
       "  </thead>\n",
       "  <tbody>\n",
       "    <tr>\n",
       "      <th>2047</th>\n",
       "      <td>2017</td>\n",
       "      <td>1</td>\n",
       "      <td>1</td>\n",
       "      <td>0</td>\n",
       "      <td>0</td>\n",
       "      <td>5.0</td>\n",
       "      <td>2</td>\n",
       "      <td>6</td>\n",
       "      <td>559</td>\n",
       "      <td>38</td>\n",
       "      <td>8</td>\n",
       "      <td>2</td>\n",
       "      <td>2</td>\n",
       "    </tr>\n",
       "    <tr>\n",
       "      <th>7838</th>\n",
       "      <td>2017</td>\n",
       "      <td>3</td>\n",
       "      <td>0</td>\n",
       "      <td>0</td>\n",
       "      <td>0</td>\n",
       "      <td>5.0</td>\n",
       "      <td>2</td>\n",
       "      <td>6</td>\n",
       "      <td>567</td>\n",
       "      <td>0</td>\n",
       "      <td>6</td>\n",
       "      <td>1</td>\n",
       "      <td>3</td>\n",
       "    </tr>\n",
       "  </tbody>\n",
       "</table>\n",
       "</div>"
      ],
      "text/plain": [
       "      year  fuel  seller_type  transmission  owner  seats  brand  model   \n",
       "2047  2017     1            1             0      0    5.0      2      6  \\\n",
       "7838  2017     3            0             0      0    5.0      2      6   \n",
       "\n",
       "      model_variants  km_driven_bin  engine_bin  mileage_bin  max_power_bin  \n",
       "2047             559             38           8            2              2  \n",
       "7838             567              0           6            1              3  "
      ]
     },
     "execution_count": 29,
     "metadata": {},
     "output_type": "execute_result"
    }
   ],
   "source": [
    "X_train.query(\"brand == 2 and model == 6\")\n"
   ]
  },
  {
   "cell_type": "code",
   "execution_count": 33,
   "metadata": {},
   "outputs": [
    {
     "data": {
      "text/plain": [
       "array([2504589.5], dtype=float32)"
      ]
     },
     "execution_count": 33,
     "metadata": {},
     "output_type": "execute_result"
    }
   ],
   "source": [
    "input_data = pd.DataFrame([[2017,1,1,0,0,5.0,2,6,559,38,8,1,1]],\n",
    "                                columns=['year','fuel','seller_type','transmission','owner','seats',\n",
    "                                         'brand','model','model_variants',\n",
    "                                         'km_driven_bin','engine_bin','mileage_bin','max_power_bin'])\n",
    "\n",
    "result = xgb.predict(input_data)\n",
    "result"
   ]
  },
  {
   "cell_type": "markdown",
   "metadata": {},
   "source": [
    "We calculate the R squared error using the r2_score function from the metrics module. R squared is a statistical measure of how well the regression predictions approximate the actual data points. It ranges from 0 to 1, where a value closer to 1 indicates a better fit."
   ]
  },
  {
   "cell_type": "markdown",
   "metadata": {},
   "source": [
    "After training, R2 score and error square are listed. This R2 value shows that the model is able to predict the estimated value but has low success rate. So It can be considered to improve the dataset a bit by extracting the vehicle age from model year and since the mileage value is the numeric value, It can be standardized to more fit to the model"
   ]
  },
  {
   "cell_type": "markdown",
   "metadata": {},
   "source": [
    "When comparing the random forest regression model and the Xgboost model, It can be said that the Xgboost model has better results. \n",
    "With an R2 value is 0.96. \n",
    "Accuracy level can be boosted by adding more data and completing missing values or crawling other highly correlated features such as gasoline burned per kilometer etc."
   ]
  },
  {
   "cell_type": "markdown",
   "metadata": {},
   "source": [
    "RangeIndex: 97712 entries, 0 to 97711\n",
    "Data columns (total 10 columns):\n",
    " #   Column        Non-Null Count  Dtype  \n",
    "---  ------        --------------  -----  \n",
    " 0   model         97712 non-null  object \n",
    " 1   year          97712 non-null  int64  \n",
    " 2   price         97712 non-null  int64  \n",
    " 3   transmission  97712 non-null  object \n",
    " 4   mileage       97712 non-null  int64  \n",
    " 5   fuelType      97712 non-null  object \n",
    " 6   tax           97712 non-null  int64  \n",
    " 7   mpg           97712 non-null  float64\n",
    " 8   engineSize    97712 non-null  float64\n",
    " 9   Manufacturer  97712 non-null  object \n",
    "dtypes: float64(2), int64(4), object(4)\n",
    "memory usage: 7.5+ MB"
   ]
  },
  {
   "cell_type": "markdown",
   "metadata": {},
   "source": [
    "#### Visualize the relationship between the actual car prices and the prices predicted by our models, providing insights into their accuracy and generalization ability."
   ]
  },
  {
   "cell_type": "code",
   "execution_count": 20,
   "metadata": {},
   "outputs": [
    {
     "data": {
      "image/png": "[encoded data removed]",
      "text/plain": [
       "<Figure size 640x480 with 1 Axes>"
      ]
     },
     "metadata": {},
     "output_type": "display_data"
    }
   ],
   "source": [
    "plt.scatter(Y_test, lrPredicts)\n",
    "plt.xlabel(\"Actual price\")\n",
    "plt.ylabel(\"Predicted price\")\n",
    "plt.title(\"Actual prices vs. predicted prices by LinearRegression model\")\n",
    "plt.show()"
   ]
  },
  {
   "cell_type": "code",
   "execution_count": 21,
   "metadata": {},
   "outputs": [
    {
     "data": {
      "image/png": "[encoded data removed]",
      "text/plain": [
       "<Figure size 640x480 with 1 Axes>"
      ]
     },
     "metadata": {},
     "output_type": "display_data"
    }
   ],
   "source": [
    "plt.scatter(Y_test, lassoPredicts)\n",
    "plt.xlabel(\"Actual price\")\n",
    "plt.ylabel(\"Predicted price\")\n",
    "plt.title(\"Actual prices vs. predicted prices by Lasso model\")\n",
    "plt.show()"
   ]
  },
  {
   "cell_type": "code",
   "execution_count": 22,
   "metadata": {},
   "outputs": [
    {
     "data": {
      "text/plain": [
       "Text(0, 0.5, 'Predicted Y')"
      ]
     },
     "execution_count": 22,
     "metadata": {},
     "output_type": "execute_result"
    },
    {
     "data": {
      "image/png": "[encoded data removed]",
      "text/plain": [
       "<Figure size 640x480 with 1 Axes>"
      ]
     },
     "metadata": {},
     "output_type": "display_data"
    }
   ],
   "source": [
    "plt.scatter(Y_test, rfrPredicts)\n",
    "plt.title('Actual prices vs. predicted prices by RandomForestRegressor')\n",
    "plt.xlabel('Y Test')\n",
    "plt.ylabel('Predicted Y')"
   ]
  },
  {
   "cell_type": "code",
   "execution_count": 23,
   "metadata": {},
   "outputs": [
    {
     "data": {
      "text/plain": [
       "Text(0, 0.5, 'Predicted Y')"
      ]
     },
     "execution_count": 23,
     "metadata": {},
     "output_type": "execute_result"
    },
    {
     "data": {
      "image/png": "[encoded data removed]",
      "text/plain": [
       "<Figure size 640x480 with 1 Axes>"
      ]
     },
     "metadata": {},
     "output_type": "display_data"
    }
   ],
   "source": [
    "plt.scatter(Y_test, xgbPredicts)\n",
    "plt.title('Actual prices vs. predicted prices by XGBRegressor')\n",
    "plt.xlabel('Y Test')\n",
    "plt.ylabel('Predicted Y')"
   ]
  },
  {
   "cell_type": "markdown",
   "metadata": {},
   "source": [
    "<div class=\"alert alert-block alert-success\"><b>R2-Score XGB :</b> 0.978172674000691</div>\n",
    "<div class=\"alert alert-block alert-success\"><b>R2-Score RFR:</b> 0.9789023092156874</div>\n",
    "<div class=\"alert alert-block alert-warning\"><b>R squared Error Lasso:</b> 0.6692519031024124</div>\n",
    "<div class=\"alert alert-block alert-warning\"><b>R squared Error LinearRegression:</b> 0.6692521986606419</div>"
   ]
  }
 ],
 "metadata": {
  "kernelspec": {
   "display_name": ".venv",
   "language": "python",
   "name": "python3"
  },
  "language_info": {
   "codemirror_mode": {
    "name": "ipython",
    "version": 3
   },
   "file_extension": ".py",
   "mimetype": "text/x-python",
   "name": "python",
   "nbconvert_exporter": "python",
   "pygments_lexer": "ipython3",
   "version": "3.11.3"
  }
 },
 "nbformat": 4,
 "nbformat_minor": 2
}
